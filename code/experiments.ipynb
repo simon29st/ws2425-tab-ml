{
 "cells": [
  {
   "cell_type": "code",
   "execution_count": 1,
   "metadata": {},
   "outputs": [],
   "source": [
    "from openml import tasks\n",
    "\n",
    "from tqdm import tqdm\n",
    "\n",
    "import numpy as np\n",
    "\n",
    "from classes import GroupStructure"
   ]
  },
  {
   "cell_type": "code",
   "execution_count": 2,
   "metadata": {},
   "outputs": [
    {
     "name": "stderr",
     "output_type": "stream",
     "text": [
      "f:\\workplace_github\\ws2425-tab-ml\\code\\.venv\\Lib\\site-packages\\openml\\tasks\\functions.py:372: UserWarning: `download_data` will default to False starting in 0.16. Please set `download_data` explicitly to suppress this warning.\n",
      "  warnings.warn(\n",
      "f:\\workplace_github\\ws2425-tab-ml\\code\\.venv\\Lib\\site-packages\\openml\\tasks\\functions.py:380: UserWarning: `download_qualities` will default to False starting in 0.16. Please set `download_qualities` explicitly to suppress this warning.\n",
      "  warnings.warn(\n"
     ]
    },
    {
     "data": {
      "text/plain": [
       "[OpenML Classification Task\n",
       " ==========================\n",
       " Task Type Description: https://www.openml.org/tt/TaskType.SUPERVISED_CLASSIFICATION\n",
       " Task ID..............: 37\n",
       " Task URL.............: https://www.openml.org/t/37\n",
       " Estimation Procedure.: crossvalidation\n",
       " Target Feature.......: class\n",
       " # of Classes.........: 2\n",
       " Cost Matrix..........: Available,\n",
       " OpenML Classification Task\n",
       " ==========================\n",
       " Task Type Description: https://www.openml.org/tt/TaskType.SUPERVISED_CLASSIFICATION\n",
       " Task ID..............: 43\n",
       " Task URL.............: https://www.openml.org/t/43\n",
       " Estimation Procedure.: crossvalidation\n",
       " Target Feature.......: class\n",
       " # of Classes.........: 2\n",
       " Cost Matrix..........: Available,\n",
       " OpenML Classification Task\n",
       " ==========================\n",
       " Task Type Description: https://www.openml.org/tt/TaskType.SUPERVISED_CLASSIFICATION\n",
       " Task ID..............: 3903\n",
       " Task URL.............: https://www.openml.org/t/3903\n",
       " Estimation Procedure.: crossvalidation\n",
       " Target Feature.......: c\n",
       " # of Classes.........: 2\n",
       " Cost Matrix..........: Available,\n",
       " OpenML Classification Task\n",
       " ==========================\n",
       " Task Type Description: https://www.openml.org/tt/TaskType.SUPERVISED_CLASSIFICATION\n",
       " Task ID..............: 3904\n",
       " Task URL.............: https://www.openml.org/t/3904\n",
       " Estimation Procedure.: crossvalidation\n",
       " Target Feature.......: defects\n",
       " # of Classes.........: 2\n",
       " Cost Matrix..........: Available,\n",
       " OpenML Classification Task\n",
       " ==========================\n",
       " Task Type Description: https://www.openml.org/tt/TaskType.SUPERVISED_CLASSIFICATION\n",
       " Task ID..............: 3913\n",
       " Task URL.............: https://www.openml.org/t/3913\n",
       " Estimation Procedure.: crossvalidation\n",
       " Target Feature.......: problems\n",
       " # of Classes.........: 2\n",
       " Cost Matrix..........: Available,\n",
       " OpenML Classification Task\n",
       " ==========================\n",
       " Task Type Description: https://www.openml.org/tt/TaskType.SUPERVISED_CLASSIFICATION\n",
       " Task ID..............: 3918\n",
       " Task URL.............: https://www.openml.org/t/3918\n",
       " Estimation Procedure.: crossvalidation\n",
       " Target Feature.......: defects\n",
       " # of Classes.........: 2\n",
       " Cost Matrix..........: Available,\n",
       " OpenML Classification Task\n",
       " ==========================\n",
       " Task Type Description: https://www.openml.org/tt/TaskType.SUPERVISED_CLASSIFICATION\n",
       " Task ID..............: 10093\n",
       " Task URL.............: https://www.openml.org/t/10093\n",
       " Estimation Procedure.: crossvalidation\n",
       " Target Feature.......: Class\n",
       " # of Classes.........: 2\n",
       " Cost Matrix..........: Available,\n",
       " OpenML Classification Task\n",
       " ==========================\n",
       " Task Type Description: https://www.openml.org/tt/TaskType.SUPERVISED_CLASSIFICATION\n",
       " Task ID..............: 9946\n",
       " Task URL.............: https://www.openml.org/t/9946\n",
       " Estimation Procedure.: crossvalidation\n",
       " Target Feature.......: Class\n",
       " # of Classes.........: 2\n",
       " Cost Matrix..........: Available,\n",
       " OpenML Classification Task\n",
       " ==========================\n",
       " Task Type Description: https://www.openml.org/tt/TaskType.SUPERVISED_CLASSIFICATION\n",
       " Task ID..............: 146819\n",
       " Task URL.............: https://www.openml.org/t/146819\n",
       " Estimation Procedure.: crossvalidation\n",
       " Target Feature.......: outcome\n",
       " # of Classes.........: 2\n",
       " Cost Matrix..........: Available,\n",
       " OpenML Classification Task\n",
       " ==========================\n",
       " Task Type Description: https://www.openml.org/tt/TaskType.SUPERVISED_CLASSIFICATION\n",
       " Task ID..............: 359955\n",
       " Task URL.............: https://www.openml.org/t/359955\n",
       " Estimation Procedure.: crossvalidation\n",
       " Evaluation Measure...: predictive_accuracy\n",
       " Target Feature.......: Class\n",
       " # of Classes.........: 2\n",
       " Cost Matrix..........: Available,\n",
       " OpenML Classification Task\n",
       " ==========================\n",
       " Task Type Description: https://www.openml.org/tt/TaskType.SUPERVISED_CLASSIFICATION\n",
       " Task ID..............: 189922\n",
       " Task URL.............: https://www.openml.org/t/189922\n",
       " Estimation Procedure.: crossvalidation\n",
       " Target Feature.......: class\n",
       " # of Classes.........: 2\n",
       " Cost Matrix..........: Available,\n",
       " OpenML Classification Task\n",
       " ==========================\n",
       " Task Type Description: https://www.openml.org/tt/TaskType.SUPERVISED_CLASSIFICATION\n",
       " Task ID..............: 359962\n",
       " Task URL.............: https://www.openml.org/t/359962\n",
       " Estimation Procedure.: crossvalidation\n",
       " Evaluation Measure...: predictive_accuracy\n",
       " Target Feature.......: defects\n",
       " # of Classes.........: 2\n",
       " Cost Matrix..........: Available,\n",
       " OpenML Classification Task\n",
       " ==========================\n",
       " Task Type Description: https://www.openml.org/tt/TaskType.SUPERVISED_CLASSIFICATION\n",
       " Task ID..............: 190392\n",
       " Task URL.............: https://www.openml.org/t/190392\n",
       " Estimation Procedure.: crossvalidation\n",
       " Evaluation Measure...: predictive_accuracy\n",
       " Target Feature.......: class\n",
       " # of Classes.........: 2\n",
       " Cost Matrix..........: Available,\n",
       " OpenML Classification Task\n",
       " ==========================\n",
       " Task Type Description: https://www.openml.org/tt/TaskType.SUPERVISED_CLASSIFICATION\n",
       " Task ID..............: 167120\n",
       " Task URL.............: https://www.openml.org/t/167120\n",
       " Estimation Procedure.: crossvalidation\n",
       " Target Feature.......: attribute_21\n",
       " # of Classes.........: 2\n",
       " Cost Matrix..........: Available,\n",
       " OpenML Classification Task\n",
       " ==========================\n",
       " Task Type Description: https://www.openml.org/tt/TaskType.SUPERVISED_CLASSIFICATION\n",
       " Task ID..............: 190137\n",
       " Task URL.............: https://www.openml.org/t/190137\n",
       " Estimation Procedure.: crossvalidation\n",
       " Evaluation Measure...: predictive_accuracy\n",
       " Target Feature.......: Class\n",
       " # of Classes.........: 2\n",
       " Cost Matrix..........: Available,\n",
       " OpenML Classification Task\n",
       " ==========================\n",
       " Task Type Description: https://www.openml.org/tt/TaskType.SUPERVISED_CLASSIFICATION\n",
       " Task ID..............: 190410\n",
       " Task URL.............: https://www.openml.org/t/190410\n",
       " Estimation Procedure.: crossvalidation\n",
       " Target Feature.......: class\n",
       " # of Classes.........: 2\n",
       " Cost Matrix..........: Available,\n",
       " OpenML Classification Task\n",
       " ==========================\n",
       " Task Type Description: https://www.openml.org/tt/TaskType.SUPERVISED_CLASSIFICATION\n",
       " Task ID..............: 168350\n",
       " Task URL.............: https://www.openml.org/t/168350\n",
       " Estimation Procedure.: crossvalidation\n",
       " Evaluation Measure...: predictive_accuracy\n",
       " Target Feature.......: Class\n",
       " # of Classes.........: 2\n",
       " Cost Matrix..........: Available,\n",
       " OpenML Classification Task\n",
       " ==========================\n",
       " Task Type Description: https://www.openml.org/tt/TaskType.SUPERVISED_CLASSIFICATION\n",
       " Task ID..............: 359975\n",
       " Task URL.............: https://www.openml.org/t/359975\n",
       " Estimation Procedure.: crossvalidation\n",
       " Evaluation Measure...: predictive_accuracy\n",
       " Target Feature.......: Target\n",
       " # of Classes.........: 2\n",
       " Cost Matrix..........: Available,\n",
       " OpenML Classification Task\n",
       " ==========================\n",
       " Task Type Description: https://www.openml.org/tt/TaskType.SUPERVISED_CLASSIFICATION\n",
       " Task ID..............: 359972\n",
       " Task URL.............: https://www.openml.org/t/359972\n",
       " Estimation Procedure.: crossvalidation\n",
       " Evaluation Measure...: predictive_accuracy\n",
       " Target Feature.......: class\n",
       " # of Classes.........: 2\n",
       " Cost Matrix..........: Available,\n",
       " OpenML Classification Task\n",
       " ==========================\n",
       " Task Type Description: https://www.openml.org/tt/TaskType.SUPERVISED_CLASSIFICATION\n",
       " Task ID..............: 146820\n",
       " Task URL.............: https://www.openml.org/t/146820\n",
       " Estimation Procedure.: crossvalidation\n",
       " Target Feature.......: class\n",
       " # of Classes.........: 2\n",
       " Cost Matrix..........: Available]"
      ]
     },
     "execution_count": 2,
     "metadata": {},
     "output_type": "execute_result"
    }
   ],
   "source": [
    "oml_task_ids = [37, 43, 3903, 3904, 3913, 3918, 10093, 9946, 146819, 359955, 189922, 359962, 190392, 167120, 190137, 190410, 168350, 359975, 359972, 146820]\n",
    "oml_tasks = tasks.get_tasks(oml_task_ids)\n",
    "oml_tasks"
   ]
  },
  {
   "cell_type": "code",
   "execution_count": 3,
   "metadata": {},
   "outputs": [
    {
     "name": "stderr",
     "output_type": "stream",
     "text": [
      "  0%|          | 0/20 [00:00<?, ?it/s]"
     ]
    },
    {
     "name": "stderr",
     "output_type": "stream",
     "text": [
      "100%|██████████| 20/20 [00:01<00:00, 18.97it/s]"
     ]
    },
    {
     "name": "stdout",
     "output_type": "stream",
     "text": [
      "True: [True, True, True, True, True, True, True, True, True, True, True, True, True, True, True, True, True, True, True, True]\n",
      "True: [True, True, True, True, True, True, True, True, True, True, True, True, True, True, True, True, True, True, True, True]\n"
     ]
    },
    {
     "name": "stderr",
     "output_type": "stream",
     "text": [
      "\n"
     ]
    }
   ],
   "source": [
    "oml_datasets = [oml_task.get_dataset() for oml_task in oml_tasks]\n",
    "\n",
    "class_column_in_X = list()\n",
    "empty_y = list()\n",
    "classes = list()\n",
    "names = list()\n",
    "for oml_dataset in tqdm(oml_datasets):\n",
    "    class_column = oml_dataset.default_target_attribute\n",
    "    X, y, _, _ = oml_dataset.get_data()\n",
    "\n",
    "    class_column_in_X.append(class_column in X.columns)\n",
    "    empty_y.append(y is None)\n",
    "\n",
    "    names.append(oml_dataset.name)\n",
    "    classes.append(X.loc[:, class_column].unique().tolist())\n",
    "print(f'{all(class_column_in_X)}: {class_column_in_X}')  # X always already includes y\n",
    "print(f'{all(empty_y)}: {empty_y}')  # y is always None"
   ]
  },
  {
   "attachments": {},
   "cell_type": "markdown",
   "metadata": {},
   "source": [
    "we see: `X` always includes the target and `y` is always None for our datasets"
   ]
  },
  {
   "cell_type": "code",
   "execution_count": 4,
   "metadata": {},
   "outputs": [
    {
     "name": "stdout",
     "output_type": "stream",
     "text": [
      "diabetes: ['tested_positive', 'tested_negative'], tested_positive\n",
      "spambase: ['1', '0'], 1\n",
      "pc3: [False, True], True\n",
      "jm1: [False, True], True\n",
      "kc2: ['no', 'yes'], yes\n",
      "pc1: [False, True], True\n",
      "banknote-authentication: ['1', '2'], 2\n",
      "wdbc: ['2', '1'], 2\n",
      "climate-model-simulation-crashes: ['0', '1'], 1\n",
      "blood-transfusion-service-center: ['2', '1'], 2\n",
      "gina: ['0', '1'], 1\n",
      "kc1: [False, True], True\n",
      "madeline: ['1', '0'], 1\n",
      "numerai28.6: ['0', '1'], 1\n",
      "ozone-level-8hr: ['1', '2'], 2\n",
      "philippine: ['0', '1'], 1\n",
      "phoneme: ['1', '2'], 2\n",
      "Satellite: ['Anomaly', 'Normal'], Anomaly\n",
      "sylvine: ['1', '0'], 1\n",
      "wilt: ['2', '1'], 2\n"
     ]
    }
   ],
   "source": [
    "# define positive classes\n",
    "positive_classes = ['tested_positive', '1', True, True, 'yes', True, '2', '2', '1', '2', '1', True, '1', '1', '2', '1', '2', 'Anomaly', '1', '2']\n",
    "for name, cs, class_pos in zip(names, classes, positive_classes):\n",
    "    print(f'{name}: {cs}, {class_pos}')"
   ]
  },
  {
   "cell_type": "code",
   "execution_count": 5,
   "metadata": {},
   "outputs": [
    {
     "data": {
      "text/html": [
       "<div>\n",
       "<style scoped>\n",
       "    .dataframe tbody tr th:only-of-type {\n",
       "        vertical-align: middle;\n",
       "    }\n",
       "\n",
       "    .dataframe tbody tr th {\n",
       "        vertical-align: top;\n",
       "    }\n",
       "\n",
       "    .dataframe thead th {\n",
       "        text-align: right;\n",
       "    }\n",
       "</style>\n",
       "<table border=\"1\" class=\"dataframe\">\n",
       "  <thead>\n",
       "    <tr style=\"text-align: right;\">\n",
       "      <th></th>\n",
       "      <th>preg</th>\n",
       "      <th>plas</th>\n",
       "      <th>pres</th>\n",
       "      <th>skin</th>\n",
       "      <th>insu</th>\n",
       "      <th>mass</th>\n",
       "      <th>pedi</th>\n",
       "      <th>age</th>\n",
       "      <th>class</th>\n",
       "    </tr>\n",
       "  </thead>\n",
       "  <tbody>\n",
       "    <tr>\n",
       "      <th>0</th>\n",
       "      <td>6.0</td>\n",
       "      <td>148.0</td>\n",
       "      <td>72.0</td>\n",
       "      <td>35.0</td>\n",
       "      <td>0.0</td>\n",
       "      <td>33.6</td>\n",
       "      <td>0.627</td>\n",
       "      <td>50.0</td>\n",
       "      <td>tested_positive</td>\n",
       "    </tr>\n",
       "    <tr>\n",
       "      <th>1</th>\n",
       "      <td>1.0</td>\n",
       "      <td>85.0</td>\n",
       "      <td>66.0</td>\n",
       "      <td>29.0</td>\n",
       "      <td>0.0</td>\n",
       "      <td>26.6</td>\n",
       "      <td>0.351</td>\n",
       "      <td>31.0</td>\n",
       "      <td>tested_negative</td>\n",
       "    </tr>\n",
       "    <tr>\n",
       "      <th>2</th>\n",
       "      <td>8.0</td>\n",
       "      <td>183.0</td>\n",
       "      <td>64.0</td>\n",
       "      <td>0.0</td>\n",
       "      <td>0.0</td>\n",
       "      <td>23.3</td>\n",
       "      <td>0.672</td>\n",
       "      <td>32.0</td>\n",
       "      <td>tested_positive</td>\n",
       "    </tr>\n",
       "    <tr>\n",
       "      <th>3</th>\n",
       "      <td>1.0</td>\n",
       "      <td>89.0</td>\n",
       "      <td>66.0</td>\n",
       "      <td>23.0</td>\n",
       "      <td>94.0</td>\n",
       "      <td>28.1</td>\n",
       "      <td>0.167</td>\n",
       "      <td>21.0</td>\n",
       "      <td>tested_negative</td>\n",
       "    </tr>\n",
       "    <tr>\n",
       "      <th>4</th>\n",
       "      <td>0.0</td>\n",
       "      <td>137.0</td>\n",
       "      <td>40.0</td>\n",
       "      <td>35.0</td>\n",
       "      <td>168.0</td>\n",
       "      <td>43.1</td>\n",
       "      <td>2.288</td>\n",
       "      <td>33.0</td>\n",
       "      <td>tested_positive</td>\n",
       "    </tr>\n",
       "    <tr>\n",
       "      <th>...</th>\n",
       "      <td>...</td>\n",
       "      <td>...</td>\n",
       "      <td>...</td>\n",
       "      <td>...</td>\n",
       "      <td>...</td>\n",
       "      <td>...</td>\n",
       "      <td>...</td>\n",
       "      <td>...</td>\n",
       "      <td>...</td>\n",
       "    </tr>\n",
       "    <tr>\n",
       "      <th>763</th>\n",
       "      <td>10.0</td>\n",
       "      <td>101.0</td>\n",
       "      <td>76.0</td>\n",
       "      <td>48.0</td>\n",
       "      <td>180.0</td>\n",
       "      <td>32.9</td>\n",
       "      <td>0.171</td>\n",
       "      <td>63.0</td>\n",
       "      <td>tested_negative</td>\n",
       "    </tr>\n",
       "    <tr>\n",
       "      <th>764</th>\n",
       "      <td>2.0</td>\n",
       "      <td>122.0</td>\n",
       "      <td>70.0</td>\n",
       "      <td>27.0</td>\n",
       "      <td>0.0</td>\n",
       "      <td>36.8</td>\n",
       "      <td>0.340</td>\n",
       "      <td>27.0</td>\n",
       "      <td>tested_negative</td>\n",
       "    </tr>\n",
       "    <tr>\n",
       "      <th>765</th>\n",
       "      <td>5.0</td>\n",
       "      <td>121.0</td>\n",
       "      <td>72.0</td>\n",
       "      <td>23.0</td>\n",
       "      <td>112.0</td>\n",
       "      <td>26.2</td>\n",
       "      <td>0.245</td>\n",
       "      <td>30.0</td>\n",
       "      <td>tested_negative</td>\n",
       "    </tr>\n",
       "    <tr>\n",
       "      <th>766</th>\n",
       "      <td>1.0</td>\n",
       "      <td>126.0</td>\n",
       "      <td>60.0</td>\n",
       "      <td>0.0</td>\n",
       "      <td>0.0</td>\n",
       "      <td>30.1</td>\n",
       "      <td>0.349</td>\n",
       "      <td>47.0</td>\n",
       "      <td>tested_positive</td>\n",
       "    </tr>\n",
       "    <tr>\n",
       "      <th>767</th>\n",
       "      <td>1.0</td>\n",
       "      <td>93.0</td>\n",
       "      <td>70.0</td>\n",
       "      <td>31.0</td>\n",
       "      <td>0.0</td>\n",
       "      <td>30.4</td>\n",
       "      <td>0.315</td>\n",
       "      <td>23.0</td>\n",
       "      <td>tested_negative</td>\n",
       "    </tr>\n",
       "  </tbody>\n",
       "</table>\n",
       "<p>768 rows × 9 columns</p>\n",
       "</div>"
      ],
      "text/plain": [
       "     preg   plas  pres  skin   insu  mass   pedi   age            class\n",
       "0     6.0  148.0  72.0  35.0    0.0  33.6  0.627  50.0  tested_positive\n",
       "1     1.0   85.0  66.0  29.0    0.0  26.6  0.351  31.0  tested_negative\n",
       "2     8.0  183.0  64.0   0.0    0.0  23.3  0.672  32.0  tested_positive\n",
       "3     1.0   89.0  66.0  23.0   94.0  28.1  0.167  21.0  tested_negative\n",
       "4     0.0  137.0  40.0  35.0  168.0  43.1  2.288  33.0  tested_positive\n",
       "..    ...    ...   ...   ...    ...   ...    ...   ...              ...\n",
       "763  10.0  101.0  76.0  48.0  180.0  32.9  0.171  63.0  tested_negative\n",
       "764   2.0  122.0  70.0  27.0    0.0  36.8  0.340  27.0  tested_negative\n",
       "765   5.0  121.0  72.0  23.0  112.0  26.2  0.245  30.0  tested_negative\n",
       "766   1.0  126.0  60.0   0.0    0.0  30.1  0.349  47.0  tested_positive\n",
       "767   1.0   93.0  70.0  31.0    0.0  30.4  0.315  23.0  tested_negative\n",
       "\n",
       "[768 rows x 9 columns]"
      ]
     },
     "execution_count": 5,
     "metadata": {},
     "output_type": "execute_result"
    }
   ],
   "source": [
    "oml_task_diabetes = oml_tasks[0]\n",
    "X, y, categorical_indicator, attribute_names = oml_task_diabetes.get_dataset().get_data()\n",
    "Xy = X.copy()\n",
    "Xy"
   ]
  },
  {
   "cell_type": "code",
   "execution_count": 6,
   "metadata": {},
   "outputs": [
    {
     "data": {
      "text/plain": [
       "False"
      ]
     },
     "execution_count": 6,
     "metadata": {},
     "output_type": "execute_result"
    }
   ],
   "source": [
    "Xy.loc[:, 'class'].nunique() == 1"
   ]
  },
  {
   "cell_type": "code",
   "execution_count": 7,
   "metadata": {},
   "outputs": [
    {
     "data": {
      "text/plain": [
       "np.True_"
      ]
     },
     "execution_count": 7,
     "metadata": {},
     "output_type": "execute_result"
    }
   ],
   "source": [
    "tmp, _, _, _ = tasks.get_task(3904).get_dataset().get_data()\n",
    "tmp.isnull().values.any()"
   ]
  },
  {
   "cell_type": "code",
   "execution_count": 17,
   "metadata": {},
   "outputs": [
    {
     "name": "stdout",
     "output_type": "stream",
     "text": [
      "([], [[[0, 1, 2, 3, 4], 1]]) True\n",
      "([0, 1, 2, 3, 4], []) False\n",
      "([0, 1], [[[2, 3, 4], 1]])\n",
      "([7, 2, 0, 6, 3, 4], [[[1, 5], 0]])\n"
     ]
    }
   ],
   "source": [
    "gs_1 = GroupStructure(\n",
    "    [0, 1, 2, 3, 4],\n",
    "    [1, 1, 1, 1, 1],\n",
    "    [],\n",
    "    [[0, 1, 2, 3, 4], 1]\n",
    ")\n",
    "gs_2 = GroupStructure(\n",
    "    [0, 1, 2, 3, 4],\n",
    "    [1, 1, 1, 1, 1],\n",
    "    [0, 1, 2, 3, 4],\n",
    "    [[], 1]\n",
    ")\n",
    "gs_3 = GroupStructure(\n",
    "    [0, 1, 2, 3, 4],\n",
    "    [1, 1, 1, 1, 1],\n",
    "    [0, 1],\n",
    "    [[], 0],\n",
    "    [[], 0],\n",
    "    [[2, 3, 4], 1]\n",
    ")\n",
    "gs_4 = GroupStructure(\n",
    "    [0, 1, 2, 3, 4, 5, 6, 7],\n",
    "    [1, 1, 1, -1, 1, 1, 1, 1],\n",
    "    [7, 2, 0, 6, 3, 4],\n",
    "    [[], 1],\n",
    "    [[1, 5], 0]\n",
    ")\n",
    "\n",
    "print(gs_1, gs_1.get_number_of_included_groups() > 0)\n",
    "print(gs_2, gs_2.get_number_of_included_groups() > 0)\n",
    "print(gs_3)\n",
    "print(gs_4)"
   ]
  },
  {
   "cell_type": "code",
   "execution_count": null,
   "metadata": {},
   "outputs": [],
   "source": [
    "from pymoo.operators.survival.rank_and_crowding.metrics import calc_crowding_distance\n",
    "from pymoo.util.nds.non_dominated_sorting import NonDominatedSorting\n",
    "from nds import ndomsort"
   ]
  },
  {
   "cell_type": "code",
   "execution_count": null,
   "metadata": {},
   "outputs": [
    {
     "name": "stdout",
     "output_type": "stream",
     "text": [
      "[0.2085025       inf 0.168445  0.155405  0.1365475 0.0695825 0.0027\n",
      " 0.104925  0.3175    0.1629925 0.168375  0.00335         inf] (13,)\n",
      "0\n"
     ]
    }
   ],
   "source": [
    "metrics = [\n",
    "    (0.6435, 0.4531, 0.4532, 0.4533),\n",
    "    (1, 0, 0, 0),\n",
    "    (0.245, 0.4537, 0.5453, 0.78968),\n",
    "    (0.245, 0.4537, 0.5453, 0.78968),\n",
    "    (0.45637, 0.4533, 0.3547, 0.978),\n",
    "    (0.45637, 0.4533, 0.3547, 0.978),\n",
    "    (0.452, 0.4539, 0.4533, 0.4531),\n",
    "    (0.452, 0.4539, 0.4533, 0.4531),\n",
    "    (0.8453, 0.345, 0.78, 0.45),\n",
    "    (0.4534, 0.78, 0.4235, 0.451),\n",
    "    (0.4435, 0.4538, 0.4531, 0.4453),\n",
    "    (0.4435, 0.4538, 0.4531, 0.4453),\n",
    "    (0, 1, 1, 1)\n",
    "]\n",
    "F = np.array(metrics)\n",
    "\n",
    "ids = np.array([0, 6])\n",
    "\n",
    "cds = calc_crowding_distance(F)\n",
    "print(cds, cds.shape)\n",
    "\n",
    "print(ids[np.argmax(cds[ids])])"
   ]
  },
  {
   "cell_type": "code",
   "execution_count": null,
   "metadata": {},
   "outputs": [
    {
     "data": {
      "text/plain": [
       "(1, 0, 2, 2, 2, 2, 2, 2, 1, 2, 2, 2, 3, 1)"
      ]
     },
     "execution_count": 324,
     "metadata": {},
     "output_type": "execute_result"
    }
   ],
   "source": [
    "nds_1 = ndomsort.non_domin_sort(\n",
    "    metrics + [(0.6, 0, 0, 0)],\n",
    "    get_objectives=lambda performance_tup: (1 - performance_tup[0], *[performance_tup[i] for i in range(1, len(performance_tup))]),  # compute pareto fronts w.r.t. reference (worst) point (0, 1, 1, 1)\n",
    "    only_front_indices=True\n",
    ")\n",
    "nds_1"
   ]
  },
  {
   "cell_type": "code",
   "execution_count": null,
   "metadata": {},
   "outputs": [
    {
     "data": {
      "text/plain": [
       "([array([1]),\n",
       "  array([ 0,  8, 13]),\n",
       "  array([ 2,  3,  4,  5,  6,  7,  9, 10, 11]),\n",
       "  array([12])],\n",
       " array([1, 0, 2, 2, 2, 2, 2, 2, 1, 2, 2, 2, 3, 1]))"
      ]
     },
     "execution_count": 325,
     "metadata": {},
     "output_type": "execute_result"
    }
   ],
   "source": [
    "nds_obj = NonDominatedSorting()\n",
    "metrics = [(1 - metric[0], *metric[1:]) for metric in metrics]\n",
    "nds_2 = nds_obj.do(np.array(metrics + [(1 - 0.6, 0, 0, 0)]), return_rank=True)\n",
    "nds_2"
   ]
  },
  {
   "cell_type": "code",
   "execution_count": null,
   "metadata": {},
   "outputs": [
    {
     "data": {
      "text/plain": [
       "array([1, 0, 2, 2, 2, 2, 2, 2, 1, 2, 2, 2, 3, 1])"
      ]
     },
     "execution_count": 326,
     "metadata": {},
     "output_type": "execute_result"
    }
   ],
   "source": [
    "nds_2[1]"
   ]
  },
  {
   "cell_type": "code",
   "execution_count": 2,
   "metadata": {},
   "outputs": [],
   "source": [
    "from pymoo.indicators.hv import HV"
   ]
  },
  {
   "cell_type": "code",
   "execution_count": 17,
   "metadata": {},
   "outputs": [
    {
     "data": {
      "text/plain": [
       "0.7794522746722189"
      ]
     },
     "execution_count": 17,
     "metadata": {},
     "output_type": "execute_result"
    }
   ],
   "source": [
    "ref = (1, 1, 1, 1)\n",
    "hv = HV(ref_point=ref, nds=False)\n",
    "\n",
    "pf = np.array([[0.81804, 0.375, 0.0, 0.0], [0.80425, 0.125, 0.0, 0.0], [0.84119, 0.625, 0.03571, 0.25], [0.82907, 0.375, 0.03571, 0.0], [0.82762, 0.5, 0.0, 0.125], [0.81842, 0.25, 0.03571, 0.0], [0.65039, 0.0, 0.0, 0.0]])\n",
    "pf = np.array([[0.80293062, 0.25, 0.03571429, 0.], [0.72340453, 0.125, 0., 0.], [0.78108042, 0.125, 0., 0.125], [0.65039062, 0., 0., 0.]])\n",
    "pf = np.subtract(pf, (1, 0, 0, 0)) * (-1, 1, 1, 1)\n",
    "pf\n",
    "hv(pf)"
   ]
  },
  {
   "cell_type": "code",
   "execution_count": 18,
   "metadata": {},
   "outputs": [
    {
     "name": "stdout",
     "output_type": "stream",
     "text": [
      "Requirement already satisfied: matplotlib in /home/ec2-user/anaconda3/envs/python3/lib/python3.10/site-packages (3.10.0)\n",
      "Requirement already satisfied: contourpy>=1.0.1 in /home/ec2-user/anaconda3/envs/python3/lib/python3.10/site-packages (from matplotlib) (1.3.1)\n",
      "Requirement already satisfied: cycler>=0.10 in /home/ec2-user/anaconda3/envs/python3/lib/python3.10/site-packages (from matplotlib) (0.12.1)\n",
      "Requirement already satisfied: fonttools>=4.22.0 in /home/ec2-user/anaconda3/envs/python3/lib/python3.10/site-packages (from matplotlib) (4.56.0)\n",
      "Requirement already satisfied: kiwisolver>=1.3.1 in /home/ec2-user/anaconda3/envs/python3/lib/python3.10/site-packages (from matplotlib) (1.4.7)\n",
      "Requirement already satisfied: numpy>=1.23 in /home/ec2-user/anaconda3/envs/python3/lib/python3.10/site-packages (from matplotlib) (1.26.4)\n",
      "Requirement already satisfied: packaging>=20.0 in /home/ec2-user/anaconda3/envs/python3/lib/python3.10/site-packages (from matplotlib) (21.3)\n",
      "Requirement already satisfied: pillow>=8 in /home/ec2-user/anaconda3/envs/python3/lib/python3.10/site-packages (from matplotlib) (11.1.0)\n",
      "Requirement already satisfied: pyparsing>=2.3.1 in /home/ec2-user/anaconda3/envs/python3/lib/python3.10/site-packages (from matplotlib) (3.2.1)\n",
      "Requirement already satisfied: python-dateutil>=2.7 in /home/ec2-user/anaconda3/envs/python3/lib/python3.10/site-packages (from matplotlib) (2.9.0.post0)\n",
      "Requirement already satisfied: six>=1.5 in /home/ec2-user/anaconda3/envs/python3/lib/python3.10/site-packages (from python-dateutil>=2.7->matplotlib) (1.17.0)\n",
      "Note: you may need to restart the kernel to use updated packages.\n"
     ]
    }
   ],
   "source": [
    "%pip install matplotlib"
   ]
  },
  {
   "cell_type": "code",
   "execution_count": 51,
   "metadata": {},
   "outputs": [],
   "source": [
    "import matplotlib.pyplot as plt\n",
    "import json"
   ]
  },
  {
   "cell_type": "code",
   "execution_count": 52,
   "metadata": {},
   "outputs": [],
   "source": [
    "with open('export/diabetes/gen-0.json', 'r') as f:\n",
    "    file_content = json.load(f)\n",
    "population = file_content['population']\n",
    "offspring = file_content['offspring']\n",
    "pareto_front = file_content['pareto']"
   ]
  },
  {
   "cell_type": "code",
   "execution_count": 53,
   "metadata": {},
   "outputs": [],
   "source": [
    "ids = np.random.choice(a=len(population), size=4, replace=False)"
   ]
  },
  {
   "cell_type": "code",
   "execution_count": 72,
   "metadata": {},
   "outputs": [
    {
     "data": {
      "text/plain": [
       "[179, 60, 0, 247]"
      ]
     },
     "execution_count": 72,
     "metadata": {},
     "output_type": "execute_result"
    }
   ],
   "source": [
    "epochs = [population[id]['metrics']['epochs'][0] for id in ids]\n",
    "epochs"
   ]
  },
  {
   "cell_type": "code",
   "execution_count": 77,
   "metadata": {},
   "outputs": [
    {
     "name": "stdout",
     "output_type": "stream",
     "text": [
      "[0.64874, 0.66167, 0.65435, 0.64238]\n",
      "[0.65701, 0.67518, 0.6677, 0.66381]\n",
      "[0.65701, 0.67518, 0.6677, 0.66381]\n",
      "[247, 202, 252, 257]\n"
     ]
    },
    {
     "data": {
      "image/png": "[encoded data removed]",
      "text/plain": [
       "<Figure size 640x480 with 1 Axes>"
      ]
     },
     "metadata": {},
     "output_type": "display_data"
    }
   ],
   "source": [
    "lowest_losses = [population[id]['metrics']['performance']['loss'][0][0] for id in ids]\n",
    "print(lowest_losses)\n",
    "\n",
    "ys = [population[id]['metrics']['performance']['loss'][0][1] for id in ids]\n",
    "print([min(y) for y in ys])\n",
    "print([y[epoch] for y, epoch in zip(ys, epochs)])\n",
    "\n",
    "xs = [[j+1 for j in range(len(y))] for y in ys]\n",
    "for x, y in zip(xs, ys):\n",
    "    plt.plot(x, y)\n",
    "print([len(y) for y in ys])"
   ]
  }
 ],
 "metadata": {
  "kernelspec": {
   "display_name": ".venv",
   "language": "python",
   "name": "python3"
  },
  "language_info": {
   "codemirror_mode": {
    "name": "ipython",
    "version": 3
   },
   "file_extension": ".py",
   "mimetype": "text/x-python",
   "name": "python",
   "nbconvert_exporter": "python",
   "pygments_lexer": "ipython3",
   "version": "3.13.2"
  }
 },
 "nbformat": 4,
 "nbformat_minor": 4
}
