{
 "cells": [
  {
   "cell_type": "code",
   "execution_count": 1,
   "metadata": {},
   "outputs": [
    {
     "data": {
      "text/plain": [
       "'%pip install setuptools==70.3.0  # apparently setuptools < 71.0.0 is required for a required package of openml to install on here\\n%pip install openml\\n%pip install numpy\\n%pip install pandas\\n# cf. https://pytorch.org/get-started/locally/\\n#%pip install torch torchvision torchaudio  # cuda 12.4, cf. nvidia-smi shell command\\n%pip install torch torchvision torchaudio --index-url https://download.pytorch.org/whl/cpu  # cpu version\\n%pip install -U scikit-learn\\n%pip install scipy\\n%pip install -U pymoo\\n%pip list'"
      ]
     },
     "execution_count": 1,
     "metadata": {},
     "output_type": "execute_result"
    }
   ],
   "source": [
    "'''%pip install setuptools==70.3.0  # apparently setuptools < 71.0.0 is required for a required package of openml to install on here\n",
    "%pip install openml\n",
    "%pip install numpy\n",
    "%pip install pandas\n",
    "# cf. https://pytorch.org/get-started/locally/\n",
    "#%pip install torch torchvision torchaudio  # cuda 12.4, cf. nvidia-smi shell command\n",
    "%pip install torch torchvision torchaudio --index-url https://download.pytorch.org/whl/cpu  # cpu version\n",
    "%pip install -U scikit-learn\n",
    "%pip install scipy\n",
    "%pip install -U pymoo\n",
    "%pip list'''"
   ]
  },
  {
   "cell_type": "code",
   "execution_count": 2,
   "metadata": {},
   "outputs": [],
   "source": [
    "from openml import tasks\n",
    "\n",
    "from classes import EAGGA\n",
    "\n",
    "import os\n",
    "import logging"
   ]
  },
  {
   "cell_type": "code",
   "execution_count": 3,
   "metadata": {},
   "outputs": [
    {
     "name": "stderr",
     "output_type": "stream",
     "text": [
      "f:\\workplace_github\\ws2425-tab-ml\\code\\.venv\\Lib\\site-packages\\openml\\tasks\\functions.py:372: UserWarning: `download_data` will default to False starting in 0.16. Please set `download_data` explicitly to suppress this warning.\n",
      "  warnings.warn(\n",
      "f:\\workplace_github\\ws2425-tab-ml\\code\\.venv\\Lib\\site-packages\\openml\\tasks\\functions.py:380: UserWarning: `download_qualities` will default to False starting in 0.16. Please set `download_qualities` explicitly to suppress this warning.\n",
      "  warnings.warn(\n"
     ]
    },
    {
     "name": "stdout",
     "output_type": "stream",
     "text": [
      "[(359955, 'blood-transfusion-service-center', '2', (748, 5)), (10093, 'banknote-authentication', '2', (1372, 5)), (146820, 'wilt', '2', (4839, 6)), (168350, 'phoneme', '2', (5404, 6)), (37, 'diabetes', 'tested_positive', (768, 9)), (146819, 'climate-model-simulation-crashes', '1', (540, 19)), (359972, 'sylvine', '1', (5124, 21)), (3913, 'kc2', 'yes', (522, 22)), (3918, 'pc1', True, (1109, 22)), (359962, 'kc1', True, (2109, 22)), (3904, 'jm1', True, (10885, 22)), (167120, 'numerai28.6', '1', (96320, 22)), (9946, 'wdbc', '2', (569, 31)), (359975, 'Satellite', 'Anomaly', (5100, 37)), (3903, 'pc3', True, (1563, 38)), (43, 'spambase', '1', (4601, 58)), (190137, 'ozone-level-8hr', '2', (2534, 73)), (190392, 'madeline', '1', (3140, 260)), (190410, 'philippine', '1', (5832, 309)), (189922, 'gina', '1', (3153, 971))]\n"
     ]
    }
   ],
   "source": [
    "oml_task_ids = [37, 43, 3903, 3904, 3913, 3918, 10093, 9946, 146819, 359955, 189922, 359962, 190392, 167120, 190137, 190410, 168350, 359975, 359972, 146820]\n",
    "oml_tasks = tasks.get_tasks(oml_task_ids)\n",
    "\n",
    "oml_datasets = [oml_task.get_dataset() for oml_task in oml_tasks]\n",
    "\n",
    "# define positive classes\n",
    "positive_classes = ['tested_positive', '1', True, True, 'yes', True, '2', '2', '1', '2', '1', True, '1', '1', '2', '1', '2', 'Anomaly', '1', '2']\n",
    "\n",
    "zipped = list(zip(oml_task_ids, oml_datasets, positive_classes))\n",
    "zipped = sorted(zipped, key=lambda item: (item[1].get_data()[0].shape[1], item[1].get_data()[0].shape[0]))  # order ascending by # of features, tiebreaker is # of samples\n",
    "print([(id, ds.name, class_pos, ds.get_data()[0].shape) for id, ds, class_pos in zipped])"
   ]
  },
  {
   "cell_type": "code",
   "execution_count": 4,
   "metadata": {},
   "outputs": [
    {
     "name": "stdout",
     "output_type": "stream",
     "text": [
      "instance 1: [(359955, 'blood-transfusion-service-center', '2', (748, 5)), (146819, 'climate-model-simulation-crashes', '1', (540, 19)), (3904, 'jm1', True, (10885, 22)), (43, 'spambase', '1', (4601, 58))]\n",
      "instance 2: [(10093, 'banknote-authentication', '2', (1372, 5)), (359972, 'sylvine', '1', (5124, 21)), (167120, 'numerai28.6', '1', (96320, 22)), (190137, 'ozone-level-8hr', '2', (2534, 73))]\n",
      "instance 3: [(146820, 'wilt', '2', (4839, 6)), (3913, 'kc2', 'yes', (522, 22)), (9946, 'wdbc', '2', (569, 31)), (190392, 'madeline', '1', (3140, 260))]\n",
      "instance 4: [(168350, 'phoneme', '2', (5404, 6)), (3918, 'pc1', True, (1109, 22)), (359975, 'Satellite', 'Anomaly', (5100, 37)), (190410, 'philippine', '1', (5832, 309))]\n",
      "instance 5: [(37, 'diabetes', 'tested_positive', (768, 9)), (359962, 'kc1', True, (2109, 22)), (3903, 'pc3', True, (1563, 38)), (189922, 'gina', '1', (3153, 971))]\n",
      "20\n",
      "True\n"
     ]
    }
   ],
   "source": [
    "zipped_instance_1 = zipped[::5]\n",
    "zipped_instance_2 = zipped[1::5]\n",
    "zipped_instance_3 = zipped[2::5]\n",
    "zipped_instance_4 = zipped[3::5]\n",
    "zipped_instance_5 = zipped[4::5]\n",
    "\n",
    "print('instance 1:', [(id, ds.name, class_pos, ds.get_data()[0].shape) for id, ds, class_pos in zipped_instance_1])\n",
    "print('instance 2:', [(id, ds.name, class_pos, ds.get_data()[0].shape) for id, ds, class_pos in zipped_instance_2])\n",
    "print('instance 3:', [(id, ds.name, class_pos, ds.get_data()[0].shape) for id, ds, class_pos in zipped_instance_3])\n",
    "print('instance 4:', [(id, ds.name, class_pos, ds.get_data()[0].shape) for id, ds, class_pos in zipped_instance_4])\n",
    "print('instance 5:', [(id, ds.name, class_pos, ds.get_data()[0].shape) for id, ds, class_pos in zipped_instance_5])\n",
    "\n",
    "# verify that all 20 are included\n",
    "zipped_instances_union = set.union(\n",
    "    set(ds.name for _, ds, _ in zipped_instance_1),\n",
    "    set(ds.name for _, ds, _ in zipped_instance_2),\n",
    "    set(ds.name for _, ds, _ in zipped_instance_3),\n",
    "    set(ds.name for _, ds, _ in zipped_instance_4),\n",
    "    set(ds.name for _, ds, _ in zipped_instance_5)\n",
    ")\n",
    "print(len(zipped_instances_union))\n",
    "print(zipped_instances_union == set(ds.name for _, ds, _ in zipped))"
   ]
  },
  {
   "cell_type": "code",
   "execution_count": 5,
   "metadata": {},
   "outputs": [
    {
     "name": "stdout",
     "output_type": "stream",
     "text": [
      "Dataset wilt\n",
      "Dataset wilt\n",
      "Starting init population\n"
     ]
    },
    {
     "ename": "KeyboardInterrupt",
     "evalue": "",
     "output_type": "error",
     "traceback": [
      "\u001b[1;31m---------------------------------------------------------------------------\u001b[0m",
      "\u001b[1;31mKeyboardInterrupt\u001b[0m                         Traceback (most recent call last)",
      "Cell \u001b[1;32mIn[5], line 26\u001b[0m\n\u001b[0;32m     22\u001b[0m logging\u001b[39m.\u001b[39minfo(msg)\n\u001b[0;32m     24\u001b[0m file_path \u001b[39m=\u001b[39m os\u001b[39m.\u001b[39mpath\u001b[39m.\u001b[39mjoin(\u001b[39m'\u001b[39m\u001b[39mexport\u001b[39m\u001b[39m'\u001b[39m, name)\n\u001b[1;32m---> 26\u001b[0m eagga \u001b[39m=\u001b[39m EAGGA(\n\u001b[0;32m     27\u001b[0m     oml_dataset\u001b[39m=\u001b[39;49moml_dataset,\n\u001b[0;32m     28\u001b[0m     class_positive\u001b[39m=\u001b[39;49mclass_positive,\n\u001b[0;32m     29\u001b[0m     hps\u001b[39m=\u001b[39;49mhps,\n\u001b[0;32m     30\u001b[0m     batch_size\u001b[39m=\u001b[39;49mbatch_size,\n\u001b[0;32m     31\u001b[0m     min_epochs\u001b[39m=\u001b[39;49mmin_epochs,\n\u001b[0;32m     32\u001b[0m     patience\u001b[39m=\u001b[39;49mpatience,\n\u001b[0;32m     33\u001b[0m     secs_per_fold\u001b[39m=\u001b[39;49msecs_per_fold,\n\u001b[0;32m     34\u001b[0m     secs_total\u001b[39m=\u001b[39;49msecs_total,\n\u001b[0;32m     35\u001b[0m     file_path\u001b[39m=\u001b[39;49mfile_path\n\u001b[0;32m     36\u001b[0m )\n\u001b[0;32m     37\u001b[0m \u001b[39m#eagga.load_population(0)\u001b[39;00m\n\u001b[0;32m     39\u001b[0m pareto_front \u001b[39m=\u001b[39m eagga\u001b[39m.\u001b[39mrun_eagga()\n",
      "File \u001b[1;32mf:\\workplace_github\\ws2425-tab-ml\\code\\classes.py:589\u001b[0m, in \u001b[0;36mEAGGA.__init__\u001b[1;34m(self, oml_dataset, class_positive, hps, batch_size, min_epochs, patience, secs_per_fold, secs_total, file_path)\u001b[0m\n\u001b[0;32m    585\u001b[0m \u001b[39mself\u001b[39m\u001b[39m.\u001b[39mfile_path \u001b[39m=\u001b[39m file_path  \u001b[39m# if not None -> autosave each generation, else do nothing\u001b[39;00m\n\u001b[0;32m    587\u001b[0m \u001b[39mself\u001b[39m\u001b[39m.\u001b[39mmonotonicity_clipper \u001b[39m=\u001b[39m WeightClipper(\u001b[39m0\u001b[39m, \u001b[39mNone\u001b[39;00m)  \u001b[39m# enforce monotonicity by clipping weights to [0, infty) after each epoch (in def train)\u001b[39;00m\n\u001b[1;32m--> 589\u001b[0m \u001b[39mself\u001b[39m\u001b[39m.\u001b[39moffspring \u001b[39m=\u001b[39m \u001b[39mself\u001b[39;49m\u001b[39m.\u001b[39;49minit_population()\n\u001b[0;32m    590\u001b[0m \u001b[39mself\u001b[39m\u001b[39m.\u001b[39mpopulation \u001b[39m=\u001b[39m \u001b[39mlist\u001b[39m()\n\u001b[0;32m    591\u001b[0m \u001b[39mself\u001b[39m\u001b[39m.\u001b[39mgen \u001b[39m=\u001b[39m \u001b[39m0\u001b[39m\n",
      "File \u001b[1;32mf:\\workplace_github\\ws2425-tab-ml\\code\\classes.py:603\u001b[0m, in \u001b[0;36mEAGGA.init_population\u001b[1;34m(self)\u001b[0m\n\u001b[0;32m    600\u001b[0m population_p_dropout \u001b[39m=\u001b[39m Prob\u001b[39m.\u001b[39mr_trunc_gamma(Prob\u001b[39m.\u001b[39mgamma_shape, Prob\u001b[39m.\u001b[39mgamma_scale, \u001b[39mself\u001b[39m\u001b[39m.\u001b[39mhps[\u001b[39m'\u001b[39m\u001b[39mmu\u001b[39m\u001b[39m'\u001b[39m], \u001b[39m1\u001b[39m, \u001b[39m1\u001b[39m)\n\u001b[0;32m    602\u001b[0m all_features \u001b[39m=\u001b[39m \u001b[39mlist\u001b[39m(i \u001b[39mfor\u001b[39;00m i \u001b[39min\u001b[39;00m \u001b[39mrange\u001b[39m(\u001b[39mlen\u001b[39m(\u001b[39mself\u001b[39m\u001b[39m.\u001b[39mdata_train_val\u001b[39m.\u001b[39mcolumns) \u001b[39m-\u001b[39m \u001b[39m1\u001b[39m))\n\u001b[1;32m--> 603\u001b[0m population_features_included \u001b[39m=\u001b[39m [GroupStructure\u001b[39m.\u001b[39;49mdetector_features(\u001b[39mself\u001b[39;49m\u001b[39m.\u001b[39;49mdata_train_val, \u001b[39mself\u001b[39;49m\u001b[39m.\u001b[39;49mcategorical_indicator, \u001b[39mself\u001b[39;49m\u001b[39m.\u001b[39;49mclass_column) \u001b[39mfor\u001b[39;00m _ \u001b[39min\u001b[39;00m \u001b[39mrange\u001b[39m(\u001b[39mself\u001b[39m\u001b[39m.\u001b[39mhps[\u001b[39m'\u001b[39m\u001b[39mmu\u001b[39m\u001b[39m'\u001b[39m])]\n\u001b[0;32m    604\u001b[0m population_features_excluded \u001b[39m=\u001b[39m [\u001b[39mlist\u001b[39m(\u001b[39mset\u001b[39m(all_features) \u001b[39m-\u001b[39m \u001b[39mset\u001b[39m(features_included)) \u001b[39mfor\u001b[39;00m features_included \u001b[39min\u001b[39;00m population_features_included]\n\u001b[0;32m    605\u001b[0m population_interactions \u001b[39m=\u001b[39m [GroupStructure\u001b[39m.\u001b[39mdetector_interactions(\u001b[39mself\u001b[39m\u001b[39m.\u001b[39mdata_train_val, features_included, \u001b[39mself\u001b[39m\u001b[39m.\u001b[39mclass_column) \u001b[39mfor\u001b[39;00m features_included \u001b[39min\u001b[39;00m population_features_included]\n",
      "File \u001b[1;32mf:\\workplace_github\\ws2425-tab-ml\\code\\classes.py:216\u001b[0m, in \u001b[0;36mGroupStructure.detector_features\u001b[1;34m(data, categorical_indicator, class_column)\u001b[0m\n\u001b[0;32m    214\u001b[0m p \u001b[39m=\u001b[39m data\u001b[39m.\u001b[39mshape[\u001b[39m1\u001b[39m] \u001b[39m-\u001b[39m \u001b[39m1\u001b[39m  \u001b[39m# not a probability, total # of features\u001b[39;00m\n\u001b[0;32m    215\u001b[0m num_inclduded_features \u001b[39m=\u001b[39m Prob\u001b[39m.\u001b[39mr_trunc_geom(Prob\u001b[39m.\u001b[39mp_sample_features_selected, samples\u001b[39m=\u001b[39m\u001b[39m1\u001b[39m, val_min\u001b[39m=\u001b[39m\u001b[39m1\u001b[39m, val_max\u001b[39m=\u001b[39mp)\n\u001b[1;32m--> 216\u001b[0m info_gain \u001b[39m=\u001b[39m mutual_info_classif(\n\u001b[0;32m    217\u001b[0m     X\u001b[39m=\u001b[39;49mdata\u001b[39m.\u001b[39;49mloc[:, data\u001b[39m.\u001b[39;49mcolumns \u001b[39m!=\u001b[39;49m class_column],\n\u001b[0;32m    218\u001b[0m     y\u001b[39m=\u001b[39;49mdata\u001b[39m.\u001b[39;49mloc[:, class_column],\n\u001b[0;32m    219\u001b[0m     discrete_features\u001b[39m=\u001b[39;49mcategorical_indicator[:\u001b[39m-\u001b[39;49m\u001b[39m1\u001b[39;49m]\n\u001b[0;32m    220\u001b[0m )\n\u001b[0;32m    221\u001b[0m p_info_gain \u001b[39m=\u001b[39m info_gain \u001b[39m/\u001b[39m np\u001b[39m.\u001b[39msum(info_gain)\n\u001b[0;32m    223\u001b[0m \u001b[39mtry\u001b[39;00m:\n",
      "File \u001b[1;32mf:\\workplace_github\\ws2425-tab-ml\\code\\.venv\\Lib\\site-packages\\sklearn\\utils\\_param_validation.py:216\u001b[0m, in \u001b[0;36mvalidate_params.<locals>.decorator.<locals>.wrapper\u001b[1;34m(*args, **kwargs)\u001b[0m\n\u001b[0;32m    210\u001b[0m \u001b[39mtry\u001b[39;00m:\n\u001b[0;32m    211\u001b[0m     \u001b[39mwith\u001b[39;00m config_context(\n\u001b[0;32m    212\u001b[0m         skip_parameter_validation\u001b[39m=\u001b[39m(\n\u001b[0;32m    213\u001b[0m             prefer_skip_nested_validation \u001b[39mor\u001b[39;00m global_skip_validation\n\u001b[0;32m    214\u001b[0m         )\n\u001b[0;32m    215\u001b[0m     ):\n\u001b[1;32m--> 216\u001b[0m         \u001b[39mreturn\u001b[39;00m func(\u001b[39m*\u001b[39;49margs, \u001b[39m*\u001b[39;49m\u001b[39m*\u001b[39;49mkwargs)\n\u001b[0;32m    217\u001b[0m \u001b[39mexcept\u001b[39;00m InvalidParameterError \u001b[39mas\u001b[39;00m e:\n\u001b[0;32m    218\u001b[0m     \u001b[39m# When the function is just a wrapper around an estimator, we allow\u001b[39;00m\n\u001b[0;32m    219\u001b[0m     \u001b[39m# the function to delegate validation to the estimator, but we replace\u001b[39;00m\n\u001b[0;32m    220\u001b[0m     \u001b[39m# the name of the estimator by the name of the function in the error\u001b[39;00m\n\u001b[0;32m    221\u001b[0m     \u001b[39m# message to avoid confusion.\u001b[39;00m\n\u001b[0;32m    222\u001b[0m     msg \u001b[39m=\u001b[39m re\u001b[39m.\u001b[39msub(\n\u001b[0;32m    223\u001b[0m         \u001b[39mr\u001b[39m\u001b[39m\"\u001b[39m\u001b[39mparameter of \u001b[39m\u001b[39m\\\u001b[39m\u001b[39mw+ must be\u001b[39m\u001b[39m\"\u001b[39m,\n\u001b[0;32m    224\u001b[0m         \u001b[39mf\u001b[39m\u001b[39m\"\u001b[39m\u001b[39mparameter of \u001b[39m\u001b[39m{\u001b[39;00mfunc\u001b[39m.\u001b[39m\u001b[39m__qualname__\u001b[39m\u001b[39m}\u001b[39;00m\u001b[39m must be\u001b[39m\u001b[39m\"\u001b[39m,\n\u001b[0;32m    225\u001b[0m         \u001b[39mstr\u001b[39m(e),\n\u001b[0;32m    226\u001b[0m     )\n",
      "File \u001b[1;32mf:\\workplace_github\\ws2425-tab-ml\\code\\.venv\\Lib\\site-packages\\sklearn\\feature_selection\\_mutual_info.py:571\u001b[0m, in \u001b[0;36mmutual_info_classif\u001b[1;34m(X, y, discrete_features, n_neighbors, copy, random_state, n_jobs)\u001b[0m\n\u001b[0;32m    475\u001b[0m \u001b[39m\u001b[39m\u001b[39m\"\"\"Estimate mutual information for a discrete target variable.\u001b[39;00m\n\u001b[0;32m    476\u001b[0m \n\u001b[0;32m    477\u001b[0m \u001b[39mMutual information (MI) [1]_ between two random variables is a non-negative\u001b[39;00m\n\u001b[1;32m   (...)\u001b[0m\n\u001b[0;32m    568\u001b[0m \u001b[39m       0.     , 0.     , 0.     , 0.      , 0.        ])\u001b[39;00m\n\u001b[0;32m    569\u001b[0m \u001b[39m\"\"\"\u001b[39;00m\n\u001b[0;32m    570\u001b[0m check_classification_targets(y)\n\u001b[1;32m--> 571\u001b[0m \u001b[39mreturn\u001b[39;00m _estimate_mi(\n\u001b[0;32m    572\u001b[0m     X,\n\u001b[0;32m    573\u001b[0m     y,\n\u001b[0;32m    574\u001b[0m     discrete_features\u001b[39m=\u001b[39;49mdiscrete_features,\n\u001b[0;32m    575\u001b[0m     discrete_target\u001b[39m=\u001b[39;49m\u001b[39mTrue\u001b[39;49;00m,\n\u001b[0;32m    576\u001b[0m     n_neighbors\u001b[39m=\u001b[39;49mn_neighbors,\n\u001b[0;32m    577\u001b[0m     copy\u001b[39m=\u001b[39;49mcopy,\n\u001b[0;32m    578\u001b[0m     random_state\u001b[39m=\u001b[39;49mrandom_state,\n\u001b[0;32m    579\u001b[0m     n_jobs\u001b[39m=\u001b[39;49mn_jobs,\n\u001b[0;32m    580\u001b[0m )\n",
      "File \u001b[1;32mf:\\workplace_github\\ws2425-tab-ml\\code\\.venv\\Lib\\site-packages\\sklearn\\feature_selection\\_mutual_info.py:317\u001b[0m, in \u001b[0;36m_estimate_mi\u001b[1;34m(X, y, discrete_features, discrete_target, n_neighbors, copy, random_state, n_jobs)\u001b[0m\n\u001b[0;32m    310\u001b[0m     y \u001b[39m=\u001b[39m scale(y, with_mean\u001b[39m=\u001b[39m\u001b[39mFalse\u001b[39;00m)\n\u001b[0;32m    311\u001b[0m     y \u001b[39m+\u001b[39m\u001b[39m=\u001b[39m (\n\u001b[0;32m    312\u001b[0m         \u001b[39m1e-10\u001b[39m\n\u001b[0;32m    313\u001b[0m         \u001b[39m*\u001b[39m np\u001b[39m.\u001b[39mmaximum(\u001b[39m1\u001b[39m, np\u001b[39m.\u001b[39mmean(np\u001b[39m.\u001b[39mabs(y)))\n\u001b[0;32m    314\u001b[0m         \u001b[39m*\u001b[39m rng\u001b[39m.\u001b[39mstandard_normal(size\u001b[39m=\u001b[39mn_samples)\n\u001b[0;32m    315\u001b[0m     )\n\u001b[1;32m--> 317\u001b[0m mi \u001b[39m=\u001b[39m Parallel(n_jobs\u001b[39m=\u001b[39;49mn_jobs)(\n\u001b[0;32m    318\u001b[0m     delayed(_compute_mi)(x, y, discrete_feature, discrete_target, n_neighbors)\n\u001b[0;32m    319\u001b[0m     \u001b[39mfor\u001b[39;49;00m x, discrete_feature \u001b[39min\u001b[39;49;00m \u001b[39mzip\u001b[39;49m(_iterate_columns(X), discrete_mask)\n\u001b[0;32m    320\u001b[0m )\n\u001b[0;32m    322\u001b[0m \u001b[39mreturn\u001b[39;00m np\u001b[39m.\u001b[39marray(mi)\n",
      "File \u001b[1;32mf:\\workplace_github\\ws2425-tab-ml\\code\\.venv\\Lib\\site-packages\\sklearn\\utils\\parallel.py:77\u001b[0m, in \u001b[0;36mParallel.__call__\u001b[1;34m(self, iterable)\u001b[0m\n\u001b[0;32m     72\u001b[0m config \u001b[39m=\u001b[39m get_config()\n\u001b[0;32m     73\u001b[0m iterable_with_config \u001b[39m=\u001b[39m (\n\u001b[0;32m     74\u001b[0m     (_with_config(delayed_func, config), args, kwargs)\n\u001b[0;32m     75\u001b[0m     \u001b[39mfor\u001b[39;00m delayed_func, args, kwargs \u001b[39min\u001b[39;00m iterable\n\u001b[0;32m     76\u001b[0m )\n\u001b[1;32m---> 77\u001b[0m \u001b[39mreturn\u001b[39;00m \u001b[39msuper\u001b[39;49m()\u001b[39m.\u001b[39;49m\u001b[39m__call__\u001b[39;49m(iterable_with_config)\n",
      "File \u001b[1;32mf:\\workplace_github\\ws2425-tab-ml\\code\\.venv\\Lib\\site-packages\\joblib\\parallel.py:1918\u001b[0m, in \u001b[0;36mParallel.__call__\u001b[1;34m(self, iterable)\u001b[0m\n\u001b[0;32m   1916\u001b[0m     output \u001b[39m=\u001b[39m \u001b[39mself\u001b[39m\u001b[39m.\u001b[39m_get_sequential_output(iterable)\n\u001b[0;32m   1917\u001b[0m     \u001b[39mnext\u001b[39m(output)\n\u001b[1;32m-> 1918\u001b[0m     \u001b[39mreturn\u001b[39;00m output \u001b[39mif\u001b[39;00m \u001b[39mself\u001b[39m\u001b[39m.\u001b[39mreturn_generator \u001b[39melse\u001b[39;00m \u001b[39mlist\u001b[39;49m(output)\n\u001b[0;32m   1920\u001b[0m \u001b[39m# Let's create an ID that uniquely identifies the current call. If the\u001b[39;00m\n\u001b[0;32m   1921\u001b[0m \u001b[39m# call is interrupted early and that the same instance is immediately\u001b[39;00m\n\u001b[0;32m   1922\u001b[0m \u001b[39m# re-used, this id will be used to prevent workers that were\u001b[39;00m\n\u001b[0;32m   1923\u001b[0m \u001b[39m# concurrently finalizing a task from the previous call to run the\u001b[39;00m\n\u001b[0;32m   1924\u001b[0m \u001b[39m# callback.\u001b[39;00m\n\u001b[0;32m   1925\u001b[0m \u001b[39mwith\u001b[39;00m \u001b[39mself\u001b[39m\u001b[39m.\u001b[39m_lock:\n",
      "File \u001b[1;32mf:\\workplace_github\\ws2425-tab-ml\\code\\.venv\\Lib\\site-packages\\joblib\\parallel.py:1847\u001b[0m, in \u001b[0;36mParallel._get_sequential_output\u001b[1;34m(self, iterable)\u001b[0m\n\u001b[0;32m   1845\u001b[0m \u001b[39mself\u001b[39m\u001b[39m.\u001b[39mn_dispatched_batches \u001b[39m+\u001b[39m\u001b[39m=\u001b[39m \u001b[39m1\u001b[39m\n\u001b[0;32m   1846\u001b[0m \u001b[39mself\u001b[39m\u001b[39m.\u001b[39mn_dispatched_tasks \u001b[39m+\u001b[39m\u001b[39m=\u001b[39m \u001b[39m1\u001b[39m\n\u001b[1;32m-> 1847\u001b[0m res \u001b[39m=\u001b[39m func(\u001b[39m*\u001b[39;49margs, \u001b[39m*\u001b[39;49m\u001b[39m*\u001b[39;49mkwargs)\n\u001b[0;32m   1848\u001b[0m \u001b[39mself\u001b[39m\u001b[39m.\u001b[39mn_completed_tasks \u001b[39m+\u001b[39m\u001b[39m=\u001b[39m \u001b[39m1\u001b[39m\n\u001b[0;32m   1849\u001b[0m \u001b[39mself\u001b[39m\u001b[39m.\u001b[39mprint_progress()\n",
      "File \u001b[1;32mf:\\workplace_github\\ws2425-tab-ml\\code\\.venv\\Lib\\site-packages\\sklearn\\utils\\parallel.py:139\u001b[0m, in \u001b[0;36m_FuncWrapper.__call__\u001b[1;34m(self, *args, **kwargs)\u001b[0m\n\u001b[0;32m    137\u001b[0m     config \u001b[39m=\u001b[39m {}\n\u001b[0;32m    138\u001b[0m \u001b[39mwith\u001b[39;00m config_context(\u001b[39m*\u001b[39m\u001b[39m*\u001b[39mconfig):\n\u001b[1;32m--> 139\u001b[0m     \u001b[39mreturn\u001b[39;00m \u001b[39mself\u001b[39;49m\u001b[39m.\u001b[39;49mfunction(\u001b[39m*\u001b[39;49margs, \u001b[39m*\u001b[39;49m\u001b[39m*\u001b[39;49mkwargs)\n",
      "File \u001b[1;32mf:\\workplace_github\\ws2425-tab-ml\\code\\.venv\\Lib\\site-packages\\sklearn\\feature_selection\\_mutual_info.py:167\u001b[0m, in \u001b[0;36m_compute_mi\u001b[1;34m(x, y, x_discrete, y_discrete, n_neighbors)\u001b[0m\n\u001b[0;32m    165\u001b[0m     \u001b[39mreturn\u001b[39;00m _compute_mi_cd(y, x, n_neighbors)\n\u001b[0;32m    166\u001b[0m \u001b[39melif\u001b[39;00m \u001b[39mnot\u001b[39;00m x_discrete \u001b[39mand\u001b[39;00m y_discrete:\n\u001b[1;32m--> 167\u001b[0m     \u001b[39mreturn\u001b[39;00m _compute_mi_cd(x, y, n_neighbors)\n\u001b[0;32m    168\u001b[0m \u001b[39melse\u001b[39;00m:\n\u001b[0;32m    169\u001b[0m     \u001b[39mreturn\u001b[39;00m _compute_mi_cc(x, y, n_neighbors)\n",
      "File \u001b[1;32mf:\\workplace_github\\ws2425-tab-ml\\code\\.venv\\Lib\\site-packages\\sklearn\\feature_selection\\_mutual_info.py:122\u001b[0m, in \u001b[0;36m_compute_mi_cd\u001b[1;34m(c, d, n_neighbors)\u001b[0m\n\u001b[0;32m    120\u001b[0m k_all \u001b[39m=\u001b[39m np\u001b[39m.\u001b[39mempty(n_samples)\n\u001b[0;32m    121\u001b[0m nn \u001b[39m=\u001b[39m NearestNeighbors()\n\u001b[1;32m--> 122\u001b[0m \u001b[39mfor\u001b[39;00m label \u001b[39min\u001b[39;00m np\u001b[39m.\u001b[39;49munique(d):\n\u001b[0;32m    123\u001b[0m     mask \u001b[39m=\u001b[39m d \u001b[39m==\u001b[39m label\n\u001b[0;32m    124\u001b[0m     count \u001b[39m=\u001b[39m np\u001b[39m.\u001b[39msum(mask)\n",
      "File \u001b[1;32mf:\\workplace_github\\ws2425-tab-ml\\code\\.venv\\Lib\\site-packages\\numpy\\lib\\_arraysetops_impl.py:288\u001b[0m, in \u001b[0;36munique\u001b[1;34m(ar, return_index, return_inverse, return_counts, axis, equal_nan)\u001b[0m\n\u001b[0;32m    285\u001b[0m \u001b[39mif\u001b[39;00m axis \u001b[39mis\u001b[39;00m \u001b[39mNone\u001b[39;00m:\n\u001b[0;32m    286\u001b[0m     ret \u001b[39m=\u001b[39m _unique1d(ar, return_index, return_inverse, return_counts,\n\u001b[0;32m    287\u001b[0m                     equal_nan\u001b[39m=\u001b[39mequal_nan, inverse_shape\u001b[39m=\u001b[39mar\u001b[39m.\u001b[39mshape, axis\u001b[39m=\u001b[39m\u001b[39mNone\u001b[39;00m)\n\u001b[1;32m--> 288\u001b[0m     \u001b[39mreturn\u001b[39;00m _unpack_tuple(ret)\n\u001b[0;32m    290\u001b[0m \u001b[39m# axis was specified and not None\u001b[39;00m\n\u001b[0;32m    291\u001b[0m \u001b[39mtry\u001b[39;00m:\n",
      "File \u001b[1;32mf:\\workplace_github\\ws2425-tab-ml\\code\\.venv\\Lib\\site-packages\\numpy\\lib\\_arraysetops_impl.py:132\u001b[0m, in \u001b[0;36m_unpack_tuple\u001b[1;34m(x)\u001b[0m\n\u001b[0;32m    127\u001b[0m     np\u001b[39m.\u001b[39msubtract(ary[\u001b[39m1\u001b[39m:], ary[:\u001b[39m-\u001b[39m\u001b[39m1\u001b[39m], result[l_begin:l_begin \u001b[39m+\u001b[39m l_diff])\n\u001b[0;32m    129\u001b[0m     \u001b[39mreturn\u001b[39;00m conv\u001b[39m.\u001b[39mwrap(result)\n\u001b[1;32m--> 132\u001b[0m \u001b[39mdef\u001b[39;00m\u001b[39m \u001b[39m\u001b[39m_unpack_tuple\u001b[39m(x):\n\u001b[0;32m    133\u001b[0m \u001b[39m    \u001b[39m\u001b[39m\"\"\" Unpacks one-element tuples for use as return values \"\"\"\u001b[39;00m\n\u001b[0;32m    134\u001b[0m     \u001b[39mif\u001b[39;00m \u001b[39mlen\u001b[39m(x) \u001b[39m==\u001b[39m \u001b[39m1\u001b[39m:\n",
      "\u001b[1;31mKeyboardInterrupt\u001b[0m: "
     ]
    }
   ],
   "source": [
    "hps = {\n",
    "    'total_layers': (3, 10),\n",
    "    'nodes_per_hidden_layer': (3, 20),\n",
    "    'mu': 100,\n",
    "    'lambda': 10,\n",
    "    'holdout_train_size': 2/3,\n",
    "    'cv_k': 5\n",
    "}\n",
    "\n",
    "batch_size = 64\n",
    "min_epochs = 200\n",
    "patience = 100\n",
    "\n",
    "secs_per_fold = 2 * 60\n",
    "secs_total = 8 * 60 * 60\n",
    "\n",
    "pareto_fronts = list()\n",
    "for (_, oml_dataset, class_positive) in zipped_instance_4:\n",
    "    name = oml_dataset.name\n",
    "    msg = f'Dataset {name}'\n",
    "    print(msg)\n",
    "    logging.info(msg)\n",
    "\n",
    "    file_path = os.path.join('export', name)\n",
    "    \n",
    "    eagga = EAGGA(\n",
    "        oml_dataset=oml_dataset,\n",
    "        class_positive=class_positive,\n",
    "        hps=hps,\n",
    "        batch_size=batch_size,\n",
    "        min_epochs=min_epochs,\n",
    "        patience=patience,\n",
    "        secs_per_fold=secs_per_fold,\n",
    "        secs_total=secs_total,\n",
    "        file_path=file_path\n",
    "    )\n",
    "    #eagga.load_population(0)\n",
    "    \n",
    "    pareto_front = eagga.run_eagga()\n",
    "    pareto_fronts.append(pareto_front)\n",
    "pareto_fronts"
   ]
  },
  {
   "cell_type": "code",
   "execution_count": null,
   "metadata": {},
   "outputs": [],
   "source": []
  }
 ],
 "metadata": {
  "kernelspec": {
   "display_name": ".venv",
   "language": "python",
   "name": "python3"
  },
  "language_info": {
   "codemirror_mode": {
    "name": "ipython",
    "version": 3
   },
   "file_extension": ".py",
   "mimetype": "text/x-python",
   "name": "python",
   "nbconvert_exporter": "python",
   "pygments_lexer": "ipython3",
   "version": "3.13.2"
  }
 },
 "nbformat": 4,
 "nbformat_minor": 4
}
