{
 "cells": [
  {
   "cell_type": "code",
   "execution_count": 1,
   "metadata": {},
   "outputs": [],
   "source": [
    "from openml import tasks\n",
    "\n",
    "from sklearn.preprocessing import PolynomialFeatures\n",
    "from sklearn.model_selection import train_test_split\n",
    "from sklearn.feature_selection import mutual_info_classif\n",
    "\n",
    "import numpy as np\n",
    "\n",
    "from nds import ndomsort\n",
    "\n",
    "from classes import Dataset, GroupStructure, WeightClipper, Prob\n",
    "from functions import run_eagga_cv, generate_offspring"
   ]
  },
  {
   "cell_type": "code",
   "execution_count": 2,
   "metadata": {},
   "outputs": [],
   "source": [
    "oml_task_diabetes = tasks.get_task(37)"
   ]
  },
  {
   "cell_type": "code",
   "execution_count": 3,
   "metadata": {},
   "outputs": [],
   "source": [
    "X, y, categorical_indicator, attribute_names = oml_task_diabetes.get_dataset().get_data()"
   ]
  },
  {
   "cell_type": "code",
   "execution_count": 4,
   "metadata": {},
   "outputs": [
    {
     "data": {
      "text/html": [
       "<div>\n",
       "<style scoped>\n",
       "    .dataframe tbody tr th:only-of-type {\n",
       "        vertical-align: middle;\n",
       "    }\n",
       "\n",
       "    .dataframe tbody tr th {\n",
       "        vertical-align: top;\n",
       "    }\n",
       "\n",
       "    .dataframe thead th {\n",
       "        text-align: right;\n",
       "    }\n",
       "</style>\n",
       "<table border=\"1\" class=\"dataframe\">\n",
       "  <thead>\n",
       "    <tr style=\"text-align: right;\">\n",
       "      <th></th>\n",
       "      <th>preg</th>\n",
       "      <th>plas</th>\n",
       "      <th>pres</th>\n",
       "      <th>skin</th>\n",
       "      <th>insu</th>\n",
       "      <th>mass</th>\n",
       "      <th>pedi</th>\n",
       "      <th>age</th>\n",
       "      <th>class</th>\n",
       "    </tr>\n",
       "  </thead>\n",
       "  <tbody>\n",
       "    <tr>\n",
       "      <th>0</th>\n",
       "      <td>6.0</td>\n",
       "      <td>148.0</td>\n",
       "      <td>72.0</td>\n",
       "      <td>35.0</td>\n",
       "      <td>0.0</td>\n",
       "      <td>33.6</td>\n",
       "      <td>0.627</td>\n",
       "      <td>50.0</td>\n",
       "      <td>tested_positive</td>\n",
       "    </tr>\n",
       "    <tr>\n",
       "      <th>1</th>\n",
       "      <td>1.0</td>\n",
       "      <td>85.0</td>\n",
       "      <td>66.0</td>\n",
       "      <td>29.0</td>\n",
       "      <td>0.0</td>\n",
       "      <td>26.6</td>\n",
       "      <td>0.351</td>\n",
       "      <td>31.0</td>\n",
       "      <td>tested_negative</td>\n",
       "    </tr>\n",
       "    <tr>\n",
       "      <th>2</th>\n",
       "      <td>8.0</td>\n",
       "      <td>183.0</td>\n",
       "      <td>64.0</td>\n",
       "      <td>0.0</td>\n",
       "      <td>0.0</td>\n",
       "      <td>23.3</td>\n",
       "      <td>0.672</td>\n",
       "      <td>32.0</td>\n",
       "      <td>tested_positive</td>\n",
       "    </tr>\n",
       "    <tr>\n",
       "      <th>3</th>\n",
       "      <td>1.0</td>\n",
       "      <td>89.0</td>\n",
       "      <td>66.0</td>\n",
       "      <td>23.0</td>\n",
       "      <td>94.0</td>\n",
       "      <td>28.1</td>\n",
       "      <td>0.167</td>\n",
       "      <td>21.0</td>\n",
       "      <td>tested_negative</td>\n",
       "    </tr>\n",
       "    <tr>\n",
       "      <th>4</th>\n",
       "      <td>0.0</td>\n",
       "      <td>137.0</td>\n",
       "      <td>40.0</td>\n",
       "      <td>35.0</td>\n",
       "      <td>168.0</td>\n",
       "      <td>43.1</td>\n",
       "      <td>2.288</td>\n",
       "      <td>33.0</td>\n",
       "      <td>tested_positive</td>\n",
       "    </tr>\n",
       "    <tr>\n",
       "      <th>...</th>\n",
       "      <td>...</td>\n",
       "      <td>...</td>\n",
       "      <td>...</td>\n",
       "      <td>...</td>\n",
       "      <td>...</td>\n",
       "      <td>...</td>\n",
       "      <td>...</td>\n",
       "      <td>...</td>\n",
       "      <td>...</td>\n",
       "    </tr>\n",
       "    <tr>\n",
       "      <th>763</th>\n",
       "      <td>10.0</td>\n",
       "      <td>101.0</td>\n",
       "      <td>76.0</td>\n",
       "      <td>48.0</td>\n",
       "      <td>180.0</td>\n",
       "      <td>32.9</td>\n",
       "      <td>0.171</td>\n",
       "      <td>63.0</td>\n",
       "      <td>tested_negative</td>\n",
       "    </tr>\n",
       "    <tr>\n",
       "      <th>764</th>\n",
       "      <td>2.0</td>\n",
       "      <td>122.0</td>\n",
       "      <td>70.0</td>\n",
       "      <td>27.0</td>\n",
       "      <td>0.0</td>\n",
       "      <td>36.8</td>\n",
       "      <td>0.340</td>\n",
       "      <td>27.0</td>\n",
       "      <td>tested_negative</td>\n",
       "    </tr>\n",
       "    <tr>\n",
       "      <th>765</th>\n",
       "      <td>5.0</td>\n",
       "      <td>121.0</td>\n",
       "      <td>72.0</td>\n",
       "      <td>23.0</td>\n",
       "      <td>112.0</td>\n",
       "      <td>26.2</td>\n",
       "      <td>0.245</td>\n",
       "      <td>30.0</td>\n",
       "      <td>tested_negative</td>\n",
       "    </tr>\n",
       "    <tr>\n",
       "      <th>766</th>\n",
       "      <td>1.0</td>\n",
       "      <td>126.0</td>\n",
       "      <td>60.0</td>\n",
       "      <td>0.0</td>\n",
       "      <td>0.0</td>\n",
       "      <td>30.1</td>\n",
       "      <td>0.349</td>\n",
       "      <td>47.0</td>\n",
       "      <td>tested_positive</td>\n",
       "    </tr>\n",
       "    <tr>\n",
       "      <th>767</th>\n",
       "      <td>1.0</td>\n",
       "      <td>93.0</td>\n",
       "      <td>70.0</td>\n",
       "      <td>31.0</td>\n",
       "      <td>0.0</td>\n",
       "      <td>30.4</td>\n",
       "      <td>0.315</td>\n",
       "      <td>23.0</td>\n",
       "      <td>tested_negative</td>\n",
       "    </tr>\n",
       "  </tbody>\n",
       "</table>\n",
       "<p>768 rows × 9 columns</p>\n",
       "</div>"
      ],
      "text/plain": [
       "     preg   plas  pres  skin   insu  mass   pedi   age            class\n",
       "0     6.0  148.0  72.0  35.0    0.0  33.6  0.627  50.0  tested_positive\n",
       "1     1.0   85.0  66.0  29.0    0.0  26.6  0.351  31.0  tested_negative\n",
       "2     8.0  183.0  64.0   0.0    0.0  23.3  0.672  32.0  tested_positive\n",
       "3     1.0   89.0  66.0  23.0   94.0  28.1  0.167  21.0  tested_negative\n",
       "4     0.0  137.0  40.0  35.0  168.0  43.1  2.288  33.0  tested_positive\n",
       "..    ...    ...   ...   ...    ...   ...    ...   ...              ...\n",
       "763  10.0  101.0  76.0  48.0  180.0  32.9  0.171  63.0  tested_negative\n",
       "764   2.0  122.0  70.0  27.0    0.0  36.8  0.340  27.0  tested_negative\n",
       "765   5.0  121.0  72.0  23.0  112.0  26.2  0.245  30.0  tested_negative\n",
       "766   1.0  126.0  60.0   0.0    0.0  30.1  0.349  47.0  tested_positive\n",
       "767   1.0   93.0  70.0  31.0    0.0  30.4  0.315  23.0  tested_negative\n",
       "\n",
       "[768 rows x 9 columns]"
      ]
     },
     "execution_count": 4,
     "metadata": {},
     "output_type": "execute_result"
    }
   ],
   "source": [
    "X"
   ]
  },
  {
   "cell_type": "code",
   "execution_count": 5,
   "metadata": {},
   "outputs": [],
   "source": [
    "Xy = X.copy()"
   ]
  },
  {
   "cell_type": "code",
   "execution_count": 6,
   "metadata": {},
   "outputs": [
    {
     "data": {
      "text/plain": [
       "[False, False, False, False, False, False, False, False, True]"
      ]
     },
     "execution_count": 6,
     "metadata": {},
     "output_type": "execute_result"
    }
   ],
   "source": [
    "categorical_indicator"
   ]
  },
  {
   "cell_type": "code",
   "execution_count": 7,
   "metadata": {},
   "outputs": [
    {
     "name": "stdout",
     "output_type": "stream",
     "text": [
      "[7, 4]\n"
     ]
    }
   ],
   "source": [
    "feats_selected = GroupStructure.detector_features(Xy, categorical_indicator)\n",
    "#feats_selected = {0,1,2,3,4,5,6,7}  # TODO: remove\n",
    "print(feats_selected)"
   ]
  },
  {
   "cell_type": "code",
   "execution_count": 8,
   "metadata": {},
   "outputs": [
    {
     "name": "stdout",
     "output_type": "stream",
     "text": [
      "['age' 'insu' 'age insu']\n",
      "[[  50.    0.    0.]\n",
      " [  31.    0.    0.]\n",
      " [  32.    0.    0.]\n",
      " ...\n",
      " [  30.  112. 3360.]\n",
      " [  47.    0.    0.]\n",
      " [  23.    0.    0.]]\n"
     ]
    }
   ],
   "source": [
    "poly = PolynomialFeatures(degree=2, interaction_only=True, include_bias=False)\n",
    "poly.feature_names_in_=Xy.iloc[:, [*feats_selected]].columns\n",
    "interaction_terms = poly.fit_transform(\n",
    "    X=Xy.iloc[:, [*feats_selected]],\n",
    "    y=Xy.loc[:, 'class']\n",
    ")\n",
    "print(poly.get_feature_names_out())\n",
    "print(interaction_terms)"
   ]
  },
  {
   "cell_type": "code",
   "execution_count": 9,
   "metadata": {},
   "outputs": [
    {
     "data": {
      "text/plain": [
       "[[4, 7]]"
      ]
     },
     "execution_count": 9,
     "metadata": {},
     "output_type": "execute_result"
    }
   ],
   "source": [
    "population_interactions = GroupStructure.detector_interactions(Xy, feats_selected)\n",
    "population_interactions"
   ]
  },
  {
   "cell_type": "code",
   "execution_count": 10,
   "metadata": {},
   "outputs": [
    {
     "data": {
      "text/plain": [
       "([[[4, 7], 0]], [1, 1, 1, 1, 1, 1, 1, 1])"
      ]
     },
     "execution_count": 10,
     "metadata": {},
     "output_type": "execute_result"
    }
   ],
   "source": [
    "population = GroupStructure.detector_monotonicity(Xy, population_interactions)\n",
    "population"
   ]
  },
  {
   "cell_type": "code",
   "execution_count": 11,
   "metadata": {},
   "outputs": [
    {
     "name": "stdout",
     "output_type": "stream",
     "text": [
      "1\n",
      "1\n",
      "1\n",
      "ranks_nds: (1, 0, 0, 0)\n",
      "os_1 {'total_layers': 6, 'nodes_per_hidden_layer': 4, 'group_structure': <classes.GroupStructure object at 0x0000007781911040>} ([2, 4, 5], [[[1, 6], 1], [[3, 0, 7], 0]])\n",
      "os_2 {'total_layers': 5, 'nodes_per_hidden_layer': 5, 'group_structure': <classes.GroupStructure object at 0x00000077819DE580>} ([4, 6, 7, 0], [[[1, 2, 3, 5], 1], [[], 1]])\n",
      "os_3 {'total_layers': 7, 'nodes_per_hidden_layer': 5, 'group_structure': <classes.GroupStructure object at 0x0000007781AC01F0>} ([1, 3, 5], [[[0, 2, 4, 6, 7], -1]])\n",
      "os_4 {'total_layers': 8, 'nodes_per_hidden_layer': 3, 'group_structure': <classes.GroupStructure object at 0x000000778197E8D0>} ([0, 1, 3, 4], [[[2, 5, 6, 7], 1]])\n"
     ]
    }
   ],
   "source": [
    "gs_1 = GroupStructure(\n",
    "    [0, 1, 2, 3, 4, 5, 6, 7],\n",
    "    [1, 1, 1, 1, 1, 1, 1, -1],\n",
    "    [0, 1],\n",
    "    [[2, 5], 1],\n",
    "    [[4], 0],\n",
    "    [[7, 3, 6], 1]\n",
    ")\n",
    "\n",
    "gs_2 = GroupStructure(\n",
    "    [0, 1, 2, 3, 4, 5, 6, 7],\n",
    "    [1, 1, 1, 1, 1, 1, -1, -1],\n",
    "    [0],\n",
    "    [[1, 2, 3, 4, 5], 1],\n",
    "    [[6, 7], 1]\n",
    ")\n",
    "\n",
    "gs_3 = GroupStructure(\n",
    "    [0, 1, 2, 3, 4, 5, 6, 7],\n",
    "    [1, 1, 1, 1, 1, 1, 1, 1],\n",
    "    [0, 1, 2, 3, 4, 5, 6, 7]\n",
    ")\n",
    "\n",
    "gs_4 = GroupStructure(\n",
    "    [0, 1, 2, 3, 4, 5, 6, 7],\n",
    "    [1, 1, 1, 1, 1, 1, 1, 1],\n",
    "    [],\n",
    "    [[0, 1, 2, 3, 4, 5, 6, 7], 1]\n",
    ")\n",
    "\n",
    "tmp = Dataset(\n",
    "    X=Xy.loc[:, Xy.columns != 'class'],\n",
    "    y=Xy.loc[:, 'class'],\n",
    "    class_pos='tested_positive',\n",
    "    group_structure=gs_1\n",
    ")\n",
    "len(tmp)\n",
    "tmp[2]\n",
    "\n",
    "gs_1.get_unconstrained_features()\n",
    "\n",
    "print(gs_1.get_feature_signs()[0])\n",
    "print(gs_1.get_feature_signs()[2])\n",
    "print(gs_1.get_feature_signs()[6])\n",
    "\n",
    "population = [\n",
    "    {'total_layers': 3, 'nodes_per_hidden_layer': 14, 'group_structure': gs_1, 'metrics': {'mean': (0.75, 0.15, 0.5, 0.4)}},\n",
    "    {'total_layers': 5, 'nodes_per_hidden_layer': 5, 'group_structure': gs_2, 'metrics': {'mean': (0.8, 0.15, 0.5, 0.4)}},\n",
    "    {'total_layers': 7, 'nodes_per_hidden_layer': 3, 'group_structure': gs_3, 'metrics': {'mean': (0.6, 0.27, 0.4, 0.6)}},\n",
    "    {'total_layers': 7, 'nodes_per_hidden_layer': 3, 'group_structure': gs_4, 'metrics': {'mean': (0.6, 0.27, 0.4, 0.6)}}\n",
    "]\n",
    "ranks_nds = ndomsort.non_domin_sort(\n",
    "    [individual['metrics']['mean'] for individual in population],\n",
    "    get_objectives=lambda elem: (1 - elem[0], *[elem[i] for i in range(1, len(elem))]),\n",
    "    only_front_indices=True\n",
    ")\n",
    "print(f'ranks_nds: {ranks_nds}')\n",
    "hp_bounds = {\n",
    "    'total_layers': (3, 10),\n",
    "    'nodes_per_hidden_layer': (3, 20)\n",
    "}\n",
    "\n",
    "os_1, os_2 = generate_offspring(2, population[:2], ranks_nds, hp_bounds)# GroupStructure.gga_crossover(gs_1, gs_2)\n",
    "print('os_1', os_1, os_1['group_structure'])\n",
    "print('os_2', os_2, os_2['group_structure'])\n",
    "\n",
    "os_3, os_4 = generate_offspring(2, population[2:], ranks_nds, hp_bounds)# GroupStructure.gga_crossover(gs_3, gs_4)\n",
    "print('os_3', os_3, os_3['group_structure'])\n",
    "print('os_4', os_4, os_4['group_structure'])\n"
   ]
  },
  {
   "cell_type": "code",
   "execution_count": 12,
   "metadata": {},
   "outputs": [
    {
     "name": "stdout",
     "output_type": "stream",
     "text": [
      "initial population\n",
      "total layers 3, nodes_per_hidden_layer 3, gs: ([0, 2, 3, 4, 5, 6, 7], [[[1], 0]])\n",
      "total layers 4, nodes_per_hidden_layer 4, gs: ([0, 1, 2, 3, 5, 6, 7], [[[4], 0]])\n",
      "total layers 3, nodes_per_hidden_layer 4, gs: ([0, 1, 2, 3, 6, 7], [[[4, 5], 0]])\n",
      "start EA at 2025-02-25T21:45:24.370640\n",
      "Evolution 1, evaluate 3 individuals\n",
      "running HPO for individual 1/3: 3 total_layers, 3 nodes per hidden layer\n",
      "fold 1/5 | (0.7991293532338309, 0.125, 0.0, 0.125) 172\n",
      "fold 2/5 | (0.7914593698175788, 0.125, 0.0, 0.125) 181\n",
      "fold 3/5 | stop early: 0.6556266275319187 < 0.6557675274935636, optimal epoch 69 | (0.1811868686868687, 0.125, 0.0, 0.125) 69\n",
      "fold 4/5 | stop early: 0.6344185010953383 < 0.6348534443161704, optimal epoch 75 | (0.4861111111111111, 0.125, 0.0, 0.125) 75\n",
      "fold 5/5 | stop early: 0.6549730924042788 < 0.6550161621787332, optimal epoch 1 | (0.4925373134328358, 0.125, 0.0, 0.125) 1\n",
      "running HPO for individual 2/3: 4 total_layers, 4 nodes per hidden layer\n",
      "fold 1/5 | stop early: 0.635027671402151 < 0.6350406950170343, optimal epoch 22 | (0.5, 0.125, 0.0, 0.125) 22\n",
      "fold 2/5 | (0.4593698175787728, 0.125, 0.0, 0.125) 153\n",
      "fold 3/5 | stop early: 0.6758590259335258 < 0.6792837435548956, optimal epoch 14 | (0.6338383838383839, 0.125, 0.0, 0.125) 14\n",
      "fold 4/5 | stop early: 0.5944165668704293 < 0.5944413569840518, optimal epoch 134 | (0.5848063973063973, 0.125, 0.0, 0.125) 134\n",
      "fold 5/5 | stop early: 0.6115257225253365 < 0.6122320998798717, optimal epoch 51 | (0.6624733475479745, 0.125, 0.0, 0.125) 51\n",
      "running HPO for individual 3/3: 3 total_layers, 4 nodes per hidden layer\n",
      "fold 1/5 | stop early: 0.639442813667384 < 0.6400988752191717, optimal epoch 9 | (0.5058043117744611, 0.25, 0.03571428571428571, 0.25) 9\n",
      "fold 2/5 | (0.6735074626865671, 0.25, 0.03571428571428571, 0.25) 174\n",
      "fold 3/5 | stop early: 0.643100687048652 < 0.6448009339245883, optimal epoch 12 | (0.49684343434343436, 0.25, 0.03571428571428571, 0.25) 12\n",
      "fold 4/5 | stop early: 0.6273512433875691 < 0.6273589350960471, optimal epoch 119 | (0.6245791245791246, 0.25, 0.03571428571428571, 0.25) 119\n",
      "fold 5/5 | stop early: 0.6321641166101802 < 0.6322129937735471, optimal epoch 51 | (0.5238805970149254, 0.25, 0.03571428571428571, 0.25) 51\n",
      "population: [{'total_layers': 4, 'nodes_per_hidden_layer': 4, 'group_structure': <classes.GroupStructure object at 0x0000007781A3ACC0>, 'metrics': {'performance': {'mean': array([0.56809759, 0.125     , 0.        , 0.125     ]), 'var': array([0.00599337, 0.        , 0.        , 0.        ]), 'folds': [(0.5, 0.125, 0.0, 0.125), (0.4593698175787728, 0.125, 0.0, 0.125), (0.6338383838383839, 0.125, 0.0, 0.125), (0.5848063973063973, 0.125, 0.0, 0.125), (0.6624733475479745, 0.125, 0.0, 0.125)]}, 'epochs': {'mean': np.float64(74.8), 'folds': [np.int64(22), 153, np.int64(14), np.int64(134), np.int64(51)]}}, 'rank_nds': 0}, {'total_layers': 3, 'nodes_per_hidden_layer': 3, 'group_structure': <classes.GroupStructure object at 0x00000077FA319090>, 'metrics': {'performance': {'mean': array([0.5500848, 0.125    , 0.       , 0.125    ]), 'var': array([0.05275498, 0.        , 0.        , 0.        ]), 'folds': [(0.7991293532338309, 0.125, 0.0, 0.125), (0.7914593698175788, 0.125, 0.0, 0.125), (0.1811868686868687, 0.125, 0.0, 0.125), (0.4861111111111111, 0.125, 0.0, 0.125), (0.4925373134328358, 0.125, 0.0, 0.125)]}, 'epochs': {'mean': np.float64(99.6), 'folds': [172, 181, np.int64(69), np.int64(75), np.int64(1)]}}, 'rank_nds': 1}, {'total_layers': 3, 'nodes_per_hidden_layer': 4, 'group_structure': <classes.GroupStructure object at 0x0000007781976550>, 'metrics': {'performance': {'mean': array([0.56492299, 0.25      , 0.03571429, 0.25      ]), 'var': array([0.00503275, 0.        , 0.        , 0.        ]), 'folds': [(0.5058043117744611, 0.25, 0.03571428571428571, 0.25), (0.6735074626865671, 0.25, 0.03571428571428571, 0.25), (0.49684343434343436, 0.25, 0.03571428571428571, 0.25), (0.6245791245791246, 0.25, 0.03571428571428571, 0.25), (0.5238805970149254, 0.25, 0.03571428571428571, 0.25)]}, 'epochs': {'mean': np.float64(73.0), 'folds': [np.int64(9), 174, np.int64(12), np.int64(119), np.int64(51)]}}, 'rank_nds': 1}]\n",
      "{'total_layers': 3, 'nodes_per_hidden_layer': 3, 'group_structure': <classes.GroupStructure object at 0x0000007781A2E7B0>, 'rank_nds': 1} ([2, 4], [[[1, 0, 3, 5, 6, 7], -1]])\n",
      "{'total_layers': 3, 'nodes_per_hidden_layer': 3, 'group_structure': <classes.GroupStructure object at 0x0000007781A2F000>, 'rank_nds': 1} ([1, 0, 5, 6], [[[2, 3, 4, 7], -1]])\n",
      "Evolution 2, evaluate 2 individuals\n",
      "running HPO for individual 1/2: 3 total_layers, 3 nodes per hidden layer\n",
      "fold 1/5 | stop early: 0.6508836529471658 < 0.6511728384278037, optimal epoch 14 | (0.7396351575456054, 0.75, 0.5357142857142857, 0.0) 14\n",
      "fold 2/5 | stop early: 0.6570123000578447 < 0.6570212949406017, optimal epoch 124 | (0.5932835820895522, 0.75, 0.5357142857142857, 0.0) 124\n",
      "fold 3/5 | (0.7601010101010102, 0.75, 0.5357142857142857, 0.0) 179\n",
      "fold 4/5 | stop early: 0.6950952844186262 < 0.6957361887801777, optimal epoch 7 | (0.5917508417508417, 0.75, 0.5357142857142857, 0.0) 7\n",
      "fold 5/5 | stop early: 0.6434086181900718 < 0.6439129710197449, optimal epoch 11 | (0.4925373134328358, 0.75, 0.5357142857142857, 0.0) 11\n",
      "running HPO for individual 2/2: 3 total_layers, 3 nodes per hidden layer\n",
      "fold 1/5 | stop early: 0.6720822995359248 < 0.6720997799526561, optimal epoch 44 | (0.5, 0.5, 0.21428571428571427, 0.0) 44\n",
      "fold 2/5 | stop early: 0.6641637710007755 < 0.706220106645064, optimal epoch 12 | (0.5837479270315091, 0.5, 0.21428571428571427, 0.0) 12\n",
      "fold 3/5 | stop early: 0.6421625302596525 < 0.6421874544837258, optimal epoch 55 | (0.5862794612794613, 0.5, 0.21428571428571427, 0.0) 55\n",
      "fold 4/5 | stop early: 0.5978172854943709 < 0.5979361398653551, optimal epoch 81 | (0.49242424242424243, 0.5, 0.21428571428571427, 0.0) 81\n",
      "fold 5/5 | stop early: 0.6898710944435813 < 0.6914248899980024, optimal epoch 9 | (0.4029850746268657, 0.5, 0.21428571428571427, 0.0) 9\n",
      "population: [{'total_layers': 4, 'nodes_per_hidden_layer': 4, 'group_structure': <classes.GroupStructure object at 0x0000007781A3ACC0>, 'metrics': {'performance': {'mean': array([0.56809759, 0.125     , 0.        , 0.125     ]), 'var': array([0.00599337, 0.        , 0.        , 0.        ]), 'folds': [(0.5, 0.125, 0.0, 0.125), (0.4593698175787728, 0.125, 0.0, 0.125), (0.6338383838383839, 0.125, 0.0, 0.125), (0.5848063973063973, 0.125, 0.0, 0.125), (0.6624733475479745, 0.125, 0.0, 0.125)]}, 'epochs': {'mean': np.float64(74.8), 'folds': [np.int64(22), 153, np.int64(14), np.int64(134), np.int64(51)]}}, 'rank_nds': 0}, {'total_layers': 3, 'nodes_per_hidden_layer': 3, 'group_structure': <classes.GroupStructure object at 0x0000007781A2E7B0>, 'rank_nds': 0, 'metrics': {'performance': {'mean': array([0.63546158, 0.75      , 0.53571429, 0.        ]), 'var': array([0.01010082, 0.        , 0.        , 0.        ]), 'folds': [(0.7396351575456054, 0.75, 0.5357142857142857, 0.0), (0.5932835820895522, 0.75, 0.5357142857142857, 0.0), (0.7601010101010102, 0.75, 0.5357142857142857, 0.0), (0.5917508417508417, 0.75, 0.5357142857142857, 0.0), (0.4925373134328358, 0.75, 0.5357142857142857, 0.0)]}, 'epochs': {'mean': np.float64(67.0), 'folds': [np.int64(14), np.int64(124), 179, np.int64(7), np.int64(11)]}}}, {'total_layers': 3, 'nodes_per_hidden_layer': 3, 'group_structure': <classes.GroupStructure object at 0x0000007781A2F000>, 'rank_nds': 0, 'metrics': {'performance': {'mean': array([0.51308734, 0.5       , 0.21428571, 0.        ]), 'var': array([0.00461415, 0.        , 0.        , 0.        ]), 'folds': [(0.5, 0.5, 0.21428571428571427, 0.0), (0.5837479270315091, 0.5, 0.21428571428571427, 0.0), (0.5862794612794613, 0.5, 0.21428571428571427, 0.0), (0.49242424242424243, 0.5, 0.21428571428571427, 0.0), (0.4029850746268657, 0.5, 0.21428571428571427, 0.0)]}, 'epochs': {'mean': np.float64(40.2), 'folds': [np.int64(44), np.int64(12), np.int64(55), np.int64(81), np.int64(9)]}}}]\n",
      "{'total_layers': 3, 'nodes_per_hidden_layer': 3, 'group_structure': <classes.GroupStructure object at 0x0000007781ABB700>, 'rank_nds': 0} ([4, 0, 2, 3, 7], [[[1, 5, 6], -1]])\n",
      "{'total_layers': 3, 'nodes_per_hidden_layer': 5, 'group_structure': <classes.GroupStructure object at 0x0000007781ABB690>, 'rank_nds': 0} ([0, 6, 7, 2, 4], [[[1, 3, 5], 1]])\n",
      "finished EA at 2025-02-25T21:48:04.114896\n"
     ]
    }
   ],
   "source": [
    "# outer split, holdout\n",
    "data_train_val, data_test = train_test_split(\n",
    "    Xy,\n",
    "    train_size=2/3,\n",
    "    shuffle=True,\n",
    "    stratify=Xy.loc[:, 'class']\n",
    ")\n",
    "\n",
    "# reset indices as StratifiedKFold assumes consecutive index\n",
    "data_train_val = data_train_val.reset_index(drop=True)\n",
    "data_test = data_test.reset_index(drop=True)\n",
    "\n",
    "'''\n",
    "- for each individual in the configuration, run k (inner) folds + average its performance\n",
    "    -> in each fold, additionally split the training data, train on larger split, use smaller split to determine early stopping\n",
    "    -> average early stopping epoch over all folds, report back with average performance\n",
    "- find pareto front\n",
    "- evaluate pareto front's performance on holdout test set (data_val), each model of the front is trained for the average of the epochs determined by early stopping in CV\n",
    "'''\n",
    "cv_k = 5\n",
    "mu = 3  # TODO: set to 100\n",
    "la = 2  # TODO: set to 10\n",
    "patience = 2  # TODO: set higher, e.g. 10\n",
    "secs_per_fold = 15\n",
    "secs_total = secs_per_fold * cv_k * la  # also breaks mid-generation, will only finish current individual in case of breach\n",
    "monotonicity_clipper = WeightClipper(0, None)  # enforce monotonicity by clipping weights to [0, infty) after each epoch (in def train)\n",
    "run_eagga_cv(mu, la, cv_k, data_train_val, categorical_indicator, epochs=10, batch_size=8, patience=patience, weight_clipper=monotonicity_clipper, secs_per_fold=secs_per_fold, secs_total=secs_total)"
   ]
  }
 ],
 "metadata": {
  "kernelspec": {
   "display_name": ".venv",
   "language": "python",
   "name": "python3"
  },
  "language_info": {
   "codemirror_mode": {
    "name": "ipython",
    "version": 3
   },
   "file_extension": ".py",
   "mimetype": "text/x-python",
   "name": "python",
   "nbconvert_exporter": "python",
   "pygments_lexer": "ipython3",
   "version": "3.13.2"
  },
  "orig_nbformat": 4
 },
 "nbformat": 4,
 "nbformat_minor": 2
}
